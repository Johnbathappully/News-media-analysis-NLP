{
  "cells": [
    {
      "cell_type": "code",
      "execution_count": 15,
      "metadata": {
        "id": "_hD2KkQMaXqY"
      },
      "outputs": [],
      "source": [
        "import numpy as np\n",
        "import matplotlib.pyplot as plt\n",
        "\n",
        "import string\n",
        "import random\n",
        "import re\n",
        "import requests\n",
        "import os\n",
        "import textwrap"
      ]
    },
    {
      "cell_type": "code",
      "execution_count": 16,
      "metadata": {
        "id": "3uyybEgKaXqa"
      },
      "outputs": [],
      "source": [
        "### create substitution cipher\n",
        "\n",
        "# one will act as the key, other as the value\n",
        "letters1 = list(string.ascii_lowercase)\n",
        "letters2 = list(string.ascii_lowercase)\n",
        "\n",
        "true_mapping = {}\n",
        "\n",
        "# shuffle second set of letters\n",
        "random.shuffle(letters2)\n",
        "\n",
        "# populate map\n",
        "for k, v in zip(letters1, letters2):\n",
        "  true_mapping[k] = v"
      ]
    },
    {
      "cell_type": "code",
      "execution_count": 17,
      "metadata": {
        "id": "EoqxA74MaXqc"
      },
      "outputs": [],
      "source": [
        "### the language model\n",
        "\n",
        "# initialize Markov matrix\n",
        "M = np.ones((26, 26))\n",
        "\n",
        "# initial state distribution\n",
        "pi = np.zeros(26)\n",
        "\n",
        "# a function to update the Markov matrix\n",
        "def update_transition(ch1, ch2):\n",
        "  # ord('a') = 97, ord('b') = 98, ...\n",
        "  i = ord(ch1) - 97\n",
        "  j = ord(ch2) - 97\n",
        "  M[i,j] += 1\n",
        "\n",
        "# a function to update the initial state distribution\n",
        "def update_pi(ch):\n",
        "  i = ord(ch) - 97\n",
        "  pi[i] += 1\n",
        "\n",
        "# get the log-probability of a word / token\n",
        "def get_word_prob(word):\n",
        "  # print(\"word:\", word)\n",
        "  i = ord(word[0]) - 97\n",
        "  logp = np.log(pi[i])\n",
        "\n",
        "  for ch in word[1:]:\n",
        "    j = ord(ch) - 97\n",
        "    logp += np.log(M[i, j]) # update prob\n",
        "    i = j # update j\n",
        "\n",
        "  return logp\n",
        "\n",
        "# get the probability of a sequence of words\n",
        "def get_sequence_prob(words):\n",
        "  # if input is a string, split into an array of tokens\n",
        "  if type(words) == str:\n",
        "    words = words.split()\n",
        "\n",
        "  logp = 0\n",
        "  for word in words:\n",
        "    logp += get_word_prob(word)\n",
        "  return logp"
      ]
    },
    {
      "cell_type": "code",
      "execution_count": 18,
      "metadata": {
        "id": "c4Ym_2aLaXqd"
      },
      "outputs": [],
      "source": [
        "### create a markov model based on an English dataset\n",
        "# is an edit of https://www.gutenberg.org/ebooks/2701\n",
        "# (I removed the front and back matter)\n",
        "\n",
        "# download the file\n",
        "if not os.path.exists('moby_dick.txt'):\n",
        "  print(\"Downloading moby dick...\")\n",
        "  r = requests.get('https://lazyprogrammer.me/course_files/moby_dick.txt')\n",
        "  with open('moby_dick.txt', 'w', encoding='utf-8') as f:\n",
        "    f.write(r.content.decode())"
      ]
    },
    {
      "cell_type": "code",
      "execution_count": 19,
      "metadata": {
        "id": "TU8_EOUjaXqd"
      },
      "outputs": [],
      "source": [
        "# for replacing non-alpha characters\n",
        "regex = re.compile('[^a-zA-Z]')\n",
        "\n",
        "# load in words\n",
        "for line in open('moby_dick.txt', encoding='utf-8'):\n",
        "  line = line.rstrip()\n",
        "\n",
        "  # there are blank lines in the file\n",
        "  if line:\n",
        "    line = regex.sub(' ', line) # replace all non-alpha characters with space\n",
        "\n",
        "    # split the tokens in the line and lowercase\n",
        "    tokens = line.lower().split()\n",
        "\n",
        "    for token in tokens:\n",
        "      # update the model\n",
        "\n",
        "      # first letter\n",
        "      ch0 = token[0]\n",
        "      update_pi(ch0)\n",
        "\n",
        "      # other letters\n",
        "      for ch1 in token[1:]:\n",
        "        update_transition(ch0, ch1)\n",
        "        ch0 = ch1\n",
        "\n",
        "# normalize the probabilities\n",
        "pi /= pi.sum()\n",
        "M /= M.sum(axis=1, keepdims=True)"
      ]
    },
    {
      "cell_type": "code",
      "execution_count": 20,
      "metadata": {
        "id": "ET9YfZT5aXqe"
      },
      "outputs": [],
      "source": [
        "### encode a message\n",
        "\n",
        "# this is a random excerpt from Project Gutenberg's\n",
        "# The Adventures of Sherlock Holmes, by Arthur Conan Doyle\n",
        "# https://www.gutenberg.org/ebooks/1661\n",
        "\n",
        "original_message = '''\n",
        "'''\n",
        "\n",
        "# Away they went, and I was just wondering whether I should not do well\n",
        "# to follow them when up the lane came a neat little landau, the coachman\n",
        "# with his coat only half-buttoned, and his tie under his ear, while all\n",
        "# the tags of his harness were sticking out of the buckles. It hadn't\n",
        "# pulled up before she shot out of the hall door and into it. I only\n",
        "# caught a glimpse of her at the moment, but she was a lovely woman, with\n",
        "# a face that a man might die for.\n",
        "\n",
        "# My cabby drove fast. I don't think I ever drove faster, but the others\n",
        "# were there before us. The cab and the landau with their steaming horses\n",
        "# were in front of the door when I arrived. I paid the man and hurried\n",
        "# into the church. There was not a soul there save the two whom I had\n",
        "# followed and a surpliced clergyman, who seemed to be expostulating with\n",
        "# them. They were all three standing in a knot in front of the altar. I\n",
        "# lounged up the side aisle like any other idler who has dropped into a\n",
        "# church. Suddenly, to my surprise, the three at the altar faced round to\n",
        "# me, and Godfrey Norton came running as hard as he could towards me."
      ]
    },
    {
      "cell_type": "code",
      "execution_count": 21,
      "metadata": {
        "id": "i_X4EoyiYnXH"
      },
      "outputs": [],
      "source": [
        "### encode a message\n",
        "\n",
        "# this is a random excerpt from Project Gutenberg's\n",
        "# The Adventures of Sherlock Holmes, by Arthur Conan Doyle\n",
        "# https://www.gutenberg.org/ebooks/1661\n",
        "\n",
        "original_message = \"\"\"Confidential data from 14 UK schools has been leaked online by hackers following attacks that took place in 2022.\n",
        "The leaked documents include children’s SEN information, pupil passport scans, staff pay scales and contract details. \n",
        "The information was leaked after the impacted schools refused to pay the attackers ransom demands.\n",
        "The attacks and leaks were believed to be perpetrated by the threat actor Vice Society, \n",
        "which has conducted numerous ransomware and extortion campaigns targeting education institutions in the UK and US.\n",
        "In October 2022, the Los Angeles Unified School District (LAUSD) warned that Vice Society had begun posting data it stole from the institution.\n",
        " This followed LAUSD announcing that it would not be paying its extorters.\n",
        "Many of the 14 UK schools affected have provided an update on the incident to parents, pupils and staff.\n",
        "The schools impacted by the new leak are: Carmel College, St Helens; Durham Johnston Comprehensive School;\n",
        " Frances King School of English, London/Dublin; Gateway College, Hamilton, Leicester; Holy Family RC + CE College, Heywood; \n",
        " Lampton School, Hounslow, London; Mossbourne Federation, London; Pilton Community College, Barnstaple; Samuel Ryder Academy, St Albans; \n",
        " School of Oriental and African Studies, London; St Paul’s Catholic College, Sunbury-on-Thames; Test Valley School, Stockbridge; The De Montford School, Evesham.\n",
        "The education sector has been heavily targeted by ransomware in the past few years.\n",
        " A report published by Sophos in July 2022 found that 56% of lower education institutions had been hit by ransomware in the previous year, along with 64% of higher education bodies.\n",
        "Schools and universities appear to be viewed as a ‘soft target’ by cyber-criminals due to factors such as a lack of cybersecurity investment \n",
        "and vast numbers of devices connecting to their systems, putting sensitive personal and research data at risk.\n",
        "Commenting, Achi Lewis, area VP EMEA for Absolute Software said:\n",
        " “The education sector is a lucrative target for malicious cyber-criminals due to the large volume of sensitive data stored on school and university systems. \n",
        " As a result, ransomware attacks are a case of when, not if,\n",
        " which demands educational institutions to ensure they are prepared to both prevent and respond to these attacks, else they risk having documents stolen and leaked.\"\"\""
      ]
    },
    {
      "cell_type": "code",
      "execution_count": 22,
      "metadata": {
        "id": "huDpcMhEaXqf"
      },
      "outputs": [],
      "source": [
        "# a function to encode a message\n",
        "def encode_message(msg):\n",
        "  # downcase\n",
        "  msg = msg.lower()\n",
        "\n",
        "  # replace non-alpha characters\n",
        "  msg = regex.sub(' ', msg)\n",
        "\n",
        "  # make the encoded message\n",
        "  coded_msg = []\n",
        "  for ch in msg:\n",
        "    coded_ch = ch # could just be a space\n",
        "    if ch in true_mapping:\n",
        "      coded_ch = true_mapping[ch]\n",
        "    coded_msg.append(coded_ch)\n",
        "\n",
        "  return ''.join(coded_msg)\n",
        "\n",
        "\n",
        "encoded_message = encode_message(original_message)\n",
        "\n",
        "\n",
        "# a function to decode a message\n",
        "def decode_message(msg, word_map):\n",
        "  decoded_msg = []\n",
        "  for ch in msg:\n",
        "    decoded_ch = ch # could just be a space\n",
        "    if ch in word_map:\n",
        "      decoded_ch = word_map[ch]\n",
        "    decoded_msg.append(decoded_ch)\n",
        "\n",
        "  return ''.join(decoded_msg)"
      ]
    },
    {
      "cell_type": "code",
      "execution_count": 23,
      "metadata": {
        "id": "X6RKScmDaXqf"
      },
      "outputs": [],
      "source": [
        "### run an evolutionary algorithm to decode the message\n",
        "\n",
        "# this is our initialization point\n",
        "dna_pool = []\n",
        "for _ in range(20):\n",
        "  dna = list(string.ascii_lowercase)\n",
        "  random.shuffle(dna)\n",
        "  dna_pool.append(dna)"
      ]
    },
    {
      "cell_type": "code",
      "execution_count": 24,
      "metadata": {
        "id": "plXBoyZcaXqf"
      },
      "outputs": [],
      "source": [
        "def evolve_offspring(dna_pool, n_children):\n",
        "  # make n_children per offspring\n",
        "  offspring = []\n",
        "\n",
        "  for dna in dna_pool:\n",
        "    for _ in range(n_children):\n",
        "      copy = dna.copy()\n",
        "      j = np.random.randint(len(copy))\n",
        "      k = np.random.randint(len(copy))\n",
        "\n",
        "      # switch\n",
        "      tmp = copy[j]\n",
        "      copy[j] = copy[k]\n",
        "      copy[k] = tmp\n",
        "      offspring.append(copy)\n",
        "\n",
        "  return offspring + dna_pool"
      ]
    },
    {
      "cell_type": "code",
      "execution_count": 25,
      "metadata": {
        "colab": {
          "base_uri": "https://localhost:8080/"
        },
        "id": "eDEygWpdaXqf",
        "outputId": "01f8f692-a064-44ed-a499-afbb5a07044f"
      },
      "outputs": [
        {
          "output_type": "stream",
          "name": "stdout",
          "text": [
            "iter: 0 score: -10060.15580537355 best so far: -8466.6028731875\n",
            "iter: 200 score: -5378.281799350261 best so far: -5069.905615379252\n",
            "iter: 400 score: -5193.8878229863485 best so far: -4819.62462620084\n",
            "iter: 600 score: -5449.225479020342 best so far: -4819.62462620084\n",
            "iter: 800 score: -5467.070858453106 best so far: -4819.62462620084\n"
          ]
        }
      ],
      "source": [
        "num_iters = 1000\n",
        "scores = np.zeros(num_iters)\n",
        "best_dna = None\n",
        "best_map = None\n",
        "best_score = float('-inf')\n",
        "for i in range(num_iters):\n",
        "  if i > 0:\n",
        "    # get offspring from the current dna pool\n",
        "    dna_pool = evolve_offspring(dna_pool, 3)\n",
        "\n",
        "  # calculate score for each dna\n",
        "  dna2score = {}\n",
        "  for dna in dna_pool:\n",
        "    # populate map\n",
        "    current_map = {}\n",
        "    for k, v in zip(letters1, dna):\n",
        "      current_map[k] = v\n",
        "\n",
        "    decoded_message = decode_message(encoded_message, current_map)\n",
        "    score = get_sequence_prob(decoded_message)\n",
        "\n",
        "    # store it\n",
        "    # needs to be a string to be a dict key\n",
        "    dna2score[''.join(dna)] = score\n",
        "\n",
        "    # record the best so far\n",
        "    if score > best_score:\n",
        "      best_dna = dna\n",
        "      best_map = current_map\n",
        "      best_score = score\n",
        "\n",
        "  # average score for this generation\n",
        "  scores[i] = np.mean(list(dna2score.values()))\n",
        "\n",
        "  # keep the best 5 dna\n",
        "  # also turn them back into list of single chars\n",
        "  sorted_dna = sorted(dna2score.items(), key=lambda x: x[1], reverse=True)\n",
        "  dna_pool = [list(k) for k, v in sorted_dna[:5]]\n",
        "\n",
        "  if i % 200 == 0:\n",
        "    print(\"iter:\", i, \"score:\", scores[i], \"best so far:\", best_score)\n"
      ]
    },
    {
      "cell_type": "code",
      "execution_count": 26,
      "metadata": {
        "colab": {
          "base_uri": "https://localhost:8080/"
        },
        "id": "fY5TpiYKaXqg",
        "outputId": "f1d7e0be-1599-4c85-eda9-20326d8bf7fa"
      },
      "outputs": [
        {
          "output_type": "stream",
          "name": "stdout",
          "text": [
            "LL of decoded message: -4819.62462620084\n",
            "LL of true message: -4819.62462620084\n",
            "true: q, pred: z\n",
            "true: z, pred: q\n"
          ]
        }
      ],
      "source": [
        "# use best score\n",
        "decoded_message = decode_message(encoded_message, best_map)\n",
        "\n",
        "print(\"LL of decoded message:\", get_sequence_prob(decoded_message))\n",
        "print(\"LL of true message:\", get_sequence_prob(regex.sub(' ', original_message.lower())))\n",
        "\n",
        "\n",
        "# which letters are wrong?\n",
        "for true, v in true_mapping.items():\n",
        "  pred = best_map[v]\n",
        "  if true != pred:\n",
        "    print(\"true: %s, pred: %s\" % (true, pred))"
      ]
    },
    {
      "cell_type": "code",
      "execution_count": 27,
      "metadata": {
        "colab": {
          "base_uri": "https://localhost:8080/"
        },
        "id": "pnjcxRe3aXqh",
        "outputId": "e6e95ab3-6a39-4e77-c2c4-509f9a404117"
      },
      "outputs": [
        {
          "output_type": "stream",
          "name": "stdout",
          "text": [
            "Decoded message:\n",
            " confidential data from    uk schools has been leaked online by hackers\n",
            "following attacks that took place in       the leaked documents\n",
            "include children s sen information  pupil passport scans  staff pay\n",
            "scales and contract details   the information was leaked after the\n",
            "impacted schools refused to pay the attackers ransom demands  the\n",
            "attacks and leaks were believed to be perpetrated by the threat actor\n",
            "vice society   which has conducted numerous ransomware and extortion\n",
            "campaigns targeting education institutions in the uk and us  in\n",
            "october       the los angeles unified school district  lausd  warned\n",
            "that vice society had begun posting data it stole from the institution\n",
            "this followed lausd announcing that it would not be paying its\n",
            "extorters  many of the    uk schools affected have provided an update\n",
            "on the incident to parents  pupils and staff  the schools impacted by\n",
            "the new leak are  carmel college  st helens  durham johnston\n",
            "comprehensive school   frances king school of english  london dublin\n",
            "gateway college  hamilton  leicester  holy family rc   ce college\n",
            "heywood    lampton school  hounslow  london  mossbourne federation\n",
            "london  pilton community college  barnstaple  samuel ryder academy  st\n",
            "albans    school of oriental and african studies  london  st paul s\n",
            "catholic college  sunbury on thames  test valley school  stockbridge\n",
            "the de montford school  evesham  the education sector has been heavily\n",
            "targeted by ransomware in the past few years   a report published by\n",
            "sophos in july      found that     of lower education institutions had\n",
            "been hit by ransomware in the previous year  along with     of higher\n",
            "education bodies  schools and universities appear to be viewed as a\n",
            "soft target  by cyber criminals due to factors such as a lack of\n",
            "cybersecurity investment  and vast numbers of devices connecting to\n",
            "their systems  putting sensitive personal and research data at risk\n",
            "commenting  achi lewis  area vp emea for absolute software said    the\n",
            "education sector is a lucrative target for malicious cyber criminals\n",
            "due to the large volume of sensitive data stored on school and\n",
            "university systems    as a result  ransomware attacks are a case of\n",
            "when  not if   which demands educational institutions to ensure they\n",
            "are prepared to both prevent and respond to these attacks  else they\n",
            "risk having documents stolen and leaked\n",
            "\n",
            "True message:\n",
            " Confidential data from 14 UK schools has been leaked online by hackers following attacks that took place in 2022.\n",
            "The leaked documents include children’s SEN information, pupil passport scans, staff pay scales and contract details. \n",
            "The information was leaked after the impacted schools refused to pay the attackers ransom demands.\n",
            "The attacks and leaks were believed to be perpetrated by the threat actor Vice Society, \n",
            "which has conducted numerous ransomware and extortion campaigns targeting education institutions in the UK and US.\n",
            "In October 2022, the Los Angeles Unified School District (LAUSD) warned that Vice Society had begun posting data it stole from the institution.\n",
            " This followed LAUSD announcing that it would not be paying its extorters.\n",
            "Many of the 14 UK schools affected have provided an update on the incident to parents, pupils and staff.\n",
            "The schools impacted by the new leak are: Carmel College, St Helens; Durham Johnston Comprehensive School;\n",
            " Frances King School of English, London/Dublin; Gateway College, Hamilton, Leicester; Holy Family RC + CE College, Heywood; \n",
            " Lampton School, Hounslow, London; Mossbourne Federation, London; Pilton Community College, Barnstaple; Samuel Ryder Academy, St Albans; \n",
            " School of Oriental and African Studies, London; St Paul’s Catholic College, Sunbury-on-Thames; Test Valley School, Stockbridge; The De Montford School, Evesham.\n",
            "The education sector has been heavily targeted by ransomware in the past few years.\n",
            " A report published by Sophos in July 2022 found that 56% of lower education institutions had been hit by ransomware in the previous year, along with 64% of higher education bodies.\n",
            "Schools and universities appear to be viewed as a ‘soft target’ by cyber-criminals due to factors such as a lack of cybersecurity investment \n",
            "and vast numbers of devices connecting to their systems, putting sensitive personal and research data at risk.\n",
            "Commenting, Achi Lewis, area VP EMEA for Absolute Software said:\n",
            " “The education sector is a lucrative target for malicious cyber-criminals due to the large volume of sensitive data stored on school and university systems. \n",
            " As a result, ransomware attacks are a case of when, not if,\n",
            " which demands educational institutions to ensure they are prepared to both prevent and respond to these attacks, else they risk having documents stolen and leaked.\n"
          ]
        }
      ],
      "source": [
        "# print the final decoded message\n",
        "print(\"Decoded message:\\n\", textwrap.fill(decoded_message))\n",
        "\n",
        "print(\"\\nTrue message:\\n\", original_message)"
      ]
    },
    {
      "cell_type": "code",
      "execution_count": 28,
      "metadata": {
        "colab": {
          "base_uri": "https://localhost:8080/",
          "height": 265
        },
        "id": "1CfbNpefaXqh",
        "outputId": "030b4cec-4430-4d5a-ebf5-7bd43824a330"
      },
      "outputs": [
        {
          "output_type": "display_data",
          "data": {
            "text/plain": [
              "<Figure size 432x288 with 1 Axes>"
            ],
            "image/png": "[encoded data removed]"
          },
          "metadata": {
            "needs_background": "light"
          }
        }
      ],
      "source": [
        "plt.plot(scores)\n",
        "plt.show()"
      ]
    },
    {
      "cell_type": "code",
      "execution_count": 28,
      "metadata": {
        "id": "--RJ2QVUaXqh"
      },
      "outputs": [],
      "source": []
    }
  ],
  "metadata": {
    "kernelspec": {
      "display_name": "Python 3",
      "language": "python",
      "name": "python3"
    },
    "language_info": {
      "codemirror_mode": {
        "name": "ipython",
        "version": 3
      },
      "file_extension": ".py",
      "mimetype": "text/x-python",
      "name": "python",
      "nbconvert_exporter": "python",
      "pygments_lexer": "ipython3",
      "version": "3.7.6"
    },
    "colab": {
      "provenance": []
    }
  },
  "nbformat": 4,
  "nbformat_minor": 0
}