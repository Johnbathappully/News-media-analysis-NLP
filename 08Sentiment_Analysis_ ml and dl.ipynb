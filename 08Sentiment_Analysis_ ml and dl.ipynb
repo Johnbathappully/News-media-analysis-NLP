{
  "nbformat": 4,
  "nbformat_minor": 0,
  "metadata": {
    "colab": {
      "provenance": []
    },
    "kernelspec": {
      "name": "python3",
      "display_name": "Python 3"
    },
    "language_info": {
      "name": "python"
    }
  },
  "cells": [
    {
      "cell_type": "code",
      "execution_count": 97,
      "metadata": {
        "id": "14r3y0-DXBHv"
      },
      "outputs": [],
      "source": [
        "from tensorflow.keras.models import Sequential\n",
        "from tensorflow.python.keras.layers import Dense, GRU, Embedding\n",
        "from tensorflow.keras.optimizers import Adam\n",
        "from tensorflow.keras.preprocessing.text import Tokenizer\n",
        "from tensorflow.keras.preprocessing.sequence import pad_sequences\n",
        "\n",
        "import string\n",
        "from textblob import TextBlob\n",
        "import spacy\n",
        "nlp=spacy.load('en_core_web_sm')\n",
        "\n",
        "from sklearn.model_selection import train_test_split\n",
        "from sklearn.linear_model import LogisticRegression\n",
        "from sklearn.metrics import confusion_matrix, precision_score,recall_score\n",
        "from sklearn.preprocessing import OneHotEncoder\n",
        "from sklearn.preprocessing import LabelEncoder\n",
        "import seaborn as sns\n",
        "import numpy as np\n",
        "import pandas as pd\n",
        "import matplotlib.pyplot as plt\n",
        "from wordcloud import WordCloud, STOPWORDS, ImageColorGenerator"
      ]
    },
    {
      "cell_type": "code",
      "source": [
        "def read_data():\n",
        "    dataset=pd.read_csv('/content/all-data.csv',\n",
        "                header=None,\n",
        "                 names=['Sentiment','News'],\n",
        "                 encoding=\"cp1252\")\n",
        "    return dataset\n",
        "\n",
        "def convert_to_lower_case():\n",
        "    def lower(input_text):\n",
        "        return input_text.lower()\n",
        "    dataset['News']=dataset['News'].apply(lower)\n",
        "    \n",
        "def remove_punctuation():\n",
        "    def remove_punctuation_from_text(input_text):\n",
        "        output_list=[word for word in input_text.split() if word.isalpha()]\n",
        "        return ' '.join(output_list)    \n",
        "    dataset['News']=dataset['News'].apply(remove_punctuation_from_text)\n",
        "\n",
        "def correct_words():\n",
        "    def correct_text(input_text):\n",
        "        list_1=[str(TextBlob(word).correct()) for word in input_text.split()]\n",
        "        output_text= ' '.join(list_1)\n",
        "        return output_text\n",
        "    dataset['News']=dataset['News'].apply(correct_text)\n",
        "    \n",
        "def lemmatize():\n",
        "    def lematize_text(input_text):\n",
        "        doc=nlp(input_text)\n",
        "        lemmas=[token.lemma_ for token in doc]\n",
        "        output_text=' '.join(lemmas)\n",
        "        return output_text\n",
        "    dataset['News']=dataset['News'].apply(lematize_text)\n",
        "    \n",
        "def remove_stopwords():\n",
        "    def remove_stopwords_from_text(input_text):\n",
        "        stopwords=spacy.lang.en.stop_words.STOP_WORDS\n",
        "        output_list=[word for word in input_text.split() if word not in stopwords and not(word=='-PRON-') ]\n",
        "        return ' '.join(output_list)\n",
        "    dataset['News']=dataset['News'].apply(remove_stopwords_from_text)\n",
        "\n",
        "def split_train_test():\n",
        "    data = dataset['News'].values.tolist()\n",
        "    target = dataset['Sentiment'].values.tolist()\n",
        "    x_train, x_test, y_train, y_test = train_test_split(data, target, test_size=0.2, random_state=42,stratify=target)\n",
        "    y_train=np.array(y_train)\n",
        "    y_test=np.array(y_test)\n",
        "    return x_train, x_test, y_train, y_test "
      ],
      "metadata": {
        "id": "g5qQgzNRXlxu"
      },
      "execution_count": 98,
      "outputs": []
    },
    {
      "cell_type": "code",
      "source": [
        "#reading the data\n",
        "dataset=read_data()\n",
        "\n",
        "dataset.head()"
      ],
      "metadata": {
        "id": "7b2-LWXBYyzx",
        "colab": {
          "base_uri": "https://localhost:8080/",
          "height": 206
        },
        "outputId": "109c6d19-0de1-434b-9ae2-fd065eef56f1"
      },
      "execution_count": 99,
      "outputs": [
        {
          "output_type": "execute_result",
          "data": {
            "text/plain": [
              "  Sentiment                                               News\n",
              "0   neutral  According to Gran , the company has no plans t...\n",
              "1   neutral  Technopolis plans to develop in stages an area...\n",
              "2  negative  The international electronic industry company ...\n",
              "3  positive  With the new production plant the company woul...\n",
              "4  positive  According to the company 's updated strategy f..."
            ],
            "text/html": [
              "\n",
              "  <div id=\"df-44a7fabf-bea6-43e3-ab08-d48dca7090c3\">\n",
              "    <div class=\"colab-df-container\">\n",
              "      <div>\n",
              "<style scoped>\n",
              "    .dataframe tbody tr th:only-of-type {\n",
              "        vertical-align: middle;\n",
              "    }\n",
              "\n",
              "    .dataframe tbody tr th {\n",
              "        vertical-align: top;\n",
              "    }\n",
              "\n",
              "    .dataframe thead th {\n",
              "        text-align: right;\n",
              "    }\n",
              "</style>\n",
              "<table border=\"1\" class=\"dataframe\">\n",
              "  <thead>\n",
              "    <tr style=\"text-align: right;\">\n",
              "      <th></th>\n",
              "      <th>Sentiment</th>\n",
              "      <th>News</th>\n",
              "    </tr>\n",
              "  </thead>\n",
              "  <tbody>\n",
              "    <tr>\n",
              "      <th>0</th>\n",
              "      <td>neutral</td>\n",
              "      <td>According to Gran , the company has no plans t...</td>\n",
              "    </tr>\n",
              "    <tr>\n",
              "      <th>1</th>\n",
              "      <td>neutral</td>\n",
              "      <td>Technopolis plans to develop in stages an area...</td>\n",
              "    </tr>\n",
              "    <tr>\n",
              "      <th>2</th>\n",
              "      <td>negative</td>\n",
              "      <td>The international electronic industry company ...</td>\n",
              "    </tr>\n",
              "    <tr>\n",
              "      <th>3</th>\n",
              "      <td>positive</td>\n",
              "      <td>With the new production plant the company woul...</td>\n",
              "    </tr>\n",
              "    <tr>\n",
              "      <th>4</th>\n",
              "      <td>positive</td>\n",
              "      <td>According to the company 's updated strategy f...</td>\n",
              "    </tr>\n",
              "  </tbody>\n",
              "</table>\n",
              "</div>\n",
              "      <button class=\"colab-df-convert\" onclick=\"convertToInteractive('df-44a7fabf-bea6-43e3-ab08-d48dca7090c3')\"\n",
              "              title=\"Convert this dataframe to an interactive table.\"\n",
              "              style=\"display:none;\">\n",
              "        \n",
              "  <svg xmlns=\"http://www.w3.org/2000/svg\" height=\"24px\"viewBox=\"0 0 24 24\"\n",
              "       width=\"24px\">\n",
              "    <path d=\"M0 0h24v24H0V0z\" fill=\"none\"/>\n",
              "    <path d=\"M18.56 5.44l.94 2.06.94-2.06 2.06-.94-2.06-.94-.94-2.06-.94 2.06-2.06.94zm-11 1L8.5 8.5l.94-2.06 2.06-.94-2.06-.94L8.5 2.5l-.94 2.06-2.06.94zm10 10l.94 2.06.94-2.06 2.06-.94-2.06-.94-.94-2.06-.94 2.06-2.06.94z\"/><path d=\"M17.41 7.96l-1.37-1.37c-.4-.4-.92-.59-1.43-.59-.52 0-1.04.2-1.43.59L10.3 9.45l-7.72 7.72c-.78.78-.78 2.05 0 2.83L4 21.41c.39.39.9.59 1.41.59.51 0 1.02-.2 1.41-.59l7.78-7.78 2.81-2.81c.8-.78.8-2.07 0-2.86zM5.41 20L4 18.59l7.72-7.72 1.47 1.35L5.41 20z\"/>\n",
              "  </svg>\n",
              "      </button>\n",
              "      \n",
              "  <style>\n",
              "    .colab-df-container {\n",
              "      display:flex;\n",
              "      flex-wrap:wrap;\n",
              "      gap: 12px;\n",
              "    }\n",
              "\n",
              "    .colab-df-convert {\n",
              "      background-color: #E8F0FE;\n",
              "      border: none;\n",
              "      border-radius: 50%;\n",
              "      cursor: pointer;\n",
              "      display: none;\n",
              "      fill: #1967D2;\n",
              "      height: 32px;\n",
              "      padding: 0 0 0 0;\n",
              "      width: 32px;\n",
              "    }\n",
              "\n",
              "    .colab-df-convert:hover {\n",
              "      background-color: #E2EBFA;\n",
              "      box-shadow: 0px 1px 2px rgba(60, 64, 67, 0.3), 0px 1px 3px 1px rgba(60, 64, 67, 0.15);\n",
              "      fill: #174EA6;\n",
              "    }\n",
              "\n",
              "    [theme=dark] .colab-df-convert {\n",
              "      background-color: #3B4455;\n",
              "      fill: #D2E3FC;\n",
              "    }\n",
              "\n",
              "    [theme=dark] .colab-df-convert:hover {\n",
              "      background-color: #434B5C;\n",
              "      box-shadow: 0px 1px 3px 1px rgba(0, 0, 0, 0.15);\n",
              "      filter: drop-shadow(0px 1px 2px rgba(0, 0, 0, 0.3));\n",
              "      fill: #FFFFFF;\n",
              "    }\n",
              "  </style>\n",
              "\n",
              "      <script>\n",
              "        const buttonEl =\n",
              "          document.querySelector('#df-44a7fabf-bea6-43e3-ab08-d48dca7090c3 button.colab-df-convert');\n",
              "        buttonEl.style.display =\n",
              "          google.colab.kernel.accessAllowed ? 'block' : 'none';\n",
              "\n",
              "        async function convertToInteractive(key) {\n",
              "          const element = document.querySelector('#df-44a7fabf-bea6-43e3-ab08-d48dca7090c3');\n",
              "          const dataTable =\n",
              "            await google.colab.kernel.invokeFunction('convertToInteractive',\n",
              "                                                     [key], {});\n",
              "          if (!dataTable) return;\n",
              "\n",
              "          const docLinkHtml = 'Like what you see? Visit the ' +\n",
              "            '<a target=\"_blank\" href=https://colab.research.google.com/notebooks/data_table.ipynb>data table notebook</a>'\n",
              "            + ' to learn more about interactive tables.';\n",
              "          element.innerHTML = '';\n",
              "          dataTable['output_type'] = 'display_data';\n",
              "          await google.colab.output.renderOutput(dataTable, element);\n",
              "          const docLink = document.createElement('div');\n",
              "          docLink.innerHTML = docLinkHtml;\n",
              "          element.appendChild(docLink);\n",
              "        }\n",
              "      </script>\n",
              "    </div>\n",
              "  </div>\n",
              "  "
            ]
          },
          "metadata": {},
          "execution_count": 99
        }
      ]
    },
    {
      "cell_type": "code",
      "source": [
        "dataset = dataset.replace('positive', 1)\n",
        "print(dataset.head())"
      ],
      "metadata": {
        "colab": {
          "base_uri": "https://localhost:8080/"
        },
        "id": "nGcnuoLEIyaP",
        "outputId": "3f02290f-f444-4d93-b54b-3cb7d81b4ce2"
      },
      "execution_count": 100,
      "outputs": [
        {
          "output_type": "stream",
          "name": "stdout",
          "text": [
            "  Sentiment                                               News\n",
            "0   neutral  According to Gran , the company has no plans t...\n",
            "1   neutral  Technopolis plans to develop in stages an area...\n",
            "2  negative  The international electronic industry company ...\n",
            "3         1  With the new production plant the company woul...\n",
            "4         1  According to the company 's updated strategy f...\n"
          ]
        }
      ]
    },
    {
      "cell_type": "code",
      "source": [
        "dataset = dataset.replace('negative', 2)\n",
        "dataset = dataset.replace('neutral', 0)"
      ],
      "metadata": {
        "id": "Z5YjkRvOI-iL"
      },
      "execution_count": 101,
      "outputs": []
    },
    {
      "cell_type": "code",
      "source": [
        "print(dataset.head())"
      ],
      "metadata": {
        "colab": {
          "base_uri": "https://localhost:8080/"
        },
        "id": "LaNQDtXFJUpE",
        "outputId": "d94df88e-934c-410a-d25a-2a1dddf4b5cf"
      },
      "execution_count": 102,
      "outputs": [
        {
          "output_type": "stream",
          "name": "stdout",
          "text": [
            "   Sentiment                                               News\n",
            "0          0  According to Gran , the company has no plans t...\n",
            "1          0  Technopolis plans to develop in stages an area...\n",
            "2          2  The international electronic industry company ...\n",
            "3          1  With the new production plant the company woul...\n",
            "4          1  According to the company 's updated strategy f...\n"
          ]
        }
      ]
    },
    {
      "cell_type": "markdown",
      "source": [
        "# **Visualizations**"
      ],
      "metadata": {
        "id": "dCHXt7D5wo9g"
      }
    },
    {
      "cell_type": "code",
      "source": [
        "dataset['Sentiment'].value_counts().plot(kind='bar')\n",
        "plt.show()"
      ],
      "metadata": {
        "colab": {
          "base_uri": "https://localhost:8080/",
          "height": 264
        },
        "id": "Y6eaKhocwX1G",
        "outputId": "af692040-98ac-4e92-9e6e-59bd5c979b32"
      },
      "execution_count": 103,
      "outputs": [
        {
          "output_type": "display_data",
          "data": {
            "text/plain": [
              "<Figure size 432x288 with 1 Axes>"
            ],
            "image/png": "[encoded data removed]"
          },
          "metadata": {
            "needs_background": "light"
          }
        }
      ]
    },
    {
      "cell_type": "code",
      "source": [
        "neutral_dataframe = dataset[dataset['Sentiment']==0]\n",
        "positive_dataframe = dataset[dataset['Sentiment']==1]\n",
        "negative_dataframe = dataset[dataset['Sentiment']==2]\n",
        "negative_dataframe.head()"
      ],
      "metadata": {
        "colab": {
          "base_uri": "https://localhost:8080/",
          "height": 206
        },
        "id": "zMQeniod03Sr",
        "outputId": "1f4c0cd0-0bd0-4fd4-ae38-b13303520119"
      },
      "execution_count": 104,
      "outputs": [
        {
          "output_type": "execute_result",
          "data": {
            "text/plain": [
              "     Sentiment                                               News\n",
              "2            2  The international electronic industry company ...\n",
              "415          2  A tinyurl link takes users to a scamming site ...\n",
              "421          2  Compared with the FTSE 100 index , which rose ...\n",
              "423          2  Compared with the FTSE 100 index , which rose ...\n",
              "500          2  One of the challenges in the oil production in..."
            ],
            "text/html": [
              "\n",
              "  <div id=\"df-a266aacd-25bd-45cb-aeb5-df71535d7b69\">\n",
              "    <div class=\"colab-df-container\">\n",
              "      <div>\n",
              "<style scoped>\n",
              "    .dataframe tbody tr th:only-of-type {\n",
              "        vertical-align: middle;\n",
              "    }\n",
              "\n",
              "    .dataframe tbody tr th {\n",
              "        vertical-align: top;\n",
              "    }\n",
              "\n",
              "    .dataframe thead th {\n",
              "        text-align: right;\n",
              "    }\n",
              "</style>\n",
              "<table border=\"1\" class=\"dataframe\">\n",
              "  <thead>\n",
              "    <tr style=\"text-align: right;\">\n",
              "      <th></th>\n",
              "      <th>Sentiment</th>\n",
              "      <th>News</th>\n",
              "    </tr>\n",
              "  </thead>\n",
              "  <tbody>\n",
              "    <tr>\n",
              "      <th>2</th>\n",
              "      <td>2</td>\n",
              "      <td>The international electronic industry company ...</td>\n",
              "    </tr>\n",
              "    <tr>\n",
              "      <th>415</th>\n",
              "      <td>2</td>\n",
              "      <td>A tinyurl link takes users to a scamming site ...</td>\n",
              "    </tr>\n",
              "    <tr>\n",
              "      <th>421</th>\n",
              "      <td>2</td>\n",
              "      <td>Compared with the FTSE 100 index , which rose ...</td>\n",
              "    </tr>\n",
              "    <tr>\n",
              "      <th>423</th>\n",
              "      <td>2</td>\n",
              "      <td>Compared with the FTSE 100 index , which rose ...</td>\n",
              "    </tr>\n",
              "    <tr>\n",
              "      <th>500</th>\n",
              "      <td>2</td>\n",
              "      <td>One of the challenges in the oil production in...</td>\n",
              "    </tr>\n",
              "  </tbody>\n",
              "</table>\n",
              "</div>\n",
              "      <button class=\"colab-df-convert\" onclick=\"convertToInteractive('df-a266aacd-25bd-45cb-aeb5-df71535d7b69')\"\n",
              "              title=\"Convert this dataframe to an interactive table.\"\n",
              "              style=\"display:none;\">\n",
              "        \n",
              "  <svg xmlns=\"http://www.w3.org/2000/svg\" height=\"24px\"viewBox=\"0 0 24 24\"\n",
              "       width=\"24px\">\n",
              "    <path d=\"M0 0h24v24H0V0z\" fill=\"none\"/>\n",
              "    <path d=\"M18.56 5.44l.94 2.06.94-2.06 2.06-.94-2.06-.94-.94-2.06-.94 2.06-2.06.94zm-11 1L8.5 8.5l.94-2.06 2.06-.94-2.06-.94L8.5 2.5l-.94 2.06-2.06.94zm10 10l.94 2.06.94-2.06 2.06-.94-2.06-.94-.94-2.06-.94 2.06-2.06.94z\"/><path d=\"M17.41 7.96l-1.37-1.37c-.4-.4-.92-.59-1.43-.59-.52 0-1.04.2-1.43.59L10.3 9.45l-7.72 7.72c-.78.78-.78 2.05 0 2.83L4 21.41c.39.39.9.59 1.41.59.51 0 1.02-.2 1.41-.59l7.78-7.78 2.81-2.81c.8-.78.8-2.07 0-2.86zM5.41 20L4 18.59l7.72-7.72 1.47 1.35L5.41 20z\"/>\n",
              "  </svg>\n",
              "      </button>\n",
              "      \n",
              "  <style>\n",
              "    .colab-df-container {\n",
              "      display:flex;\n",
              "      flex-wrap:wrap;\n",
              "      gap: 12px;\n",
              "    }\n",
              "\n",
              "    .colab-df-convert {\n",
              "      background-color: #E8F0FE;\n",
              "      border: none;\n",
              "      border-radius: 50%;\n",
              "      cursor: pointer;\n",
              "      display: none;\n",
              "      fill: #1967D2;\n",
              "      height: 32px;\n",
              "      padding: 0 0 0 0;\n",
              "      width: 32px;\n",
              "    }\n",
              "\n",
              "    .colab-df-convert:hover {\n",
              "      background-color: #E2EBFA;\n",
              "      box-shadow: 0px 1px 2px rgba(60, 64, 67, 0.3), 0px 1px 3px 1px rgba(60, 64, 67, 0.15);\n",
              "      fill: #174EA6;\n",
              "    }\n",
              "\n",
              "    [theme=dark] .colab-df-convert {\n",
              "      background-color: #3B4455;\n",
              "      fill: #D2E3FC;\n",
              "    }\n",
              "\n",
              "    [theme=dark] .colab-df-convert:hover {\n",
              "      background-color: #434B5C;\n",
              "      box-shadow: 0px 1px 3px 1px rgba(0, 0, 0, 0.15);\n",
              "      filter: drop-shadow(0px 1px 2px rgba(0, 0, 0, 0.3));\n",
              "      fill: #FFFFFF;\n",
              "    }\n",
              "  </style>\n",
              "\n",
              "      <script>\n",
              "        const buttonEl =\n",
              "          document.querySelector('#df-a266aacd-25bd-45cb-aeb5-df71535d7b69 button.colab-df-convert');\n",
              "        buttonEl.style.display =\n",
              "          google.colab.kernel.accessAllowed ? 'block' : 'none';\n",
              "\n",
              "        async function convertToInteractive(key) {\n",
              "          const element = document.querySelector('#df-a266aacd-25bd-45cb-aeb5-df71535d7b69');\n",
              "          const dataTable =\n",
              "            await google.colab.kernel.invokeFunction('convertToInteractive',\n",
              "                                                     [key], {});\n",
              "          if (!dataTable) return;\n",
              "\n",
              "          const docLinkHtml = 'Like what you see? Visit the ' +\n",
              "            '<a target=\"_blank\" href=https://colab.research.google.com/notebooks/data_table.ipynb>data table notebook</a>'\n",
              "            + ' to learn more about interactive tables.';\n",
              "          element.innerHTML = '';\n",
              "          dataTable['output_type'] = 'display_data';\n",
              "          await google.colab.output.renderOutput(dataTable, element);\n",
              "          const docLink = document.createElement('div');\n",
              "          docLink.innerHTML = docLinkHtml;\n",
              "          element.appendChild(docLink);\n",
              "        }\n",
              "      </script>\n",
              "    </div>\n",
              "  </div>\n",
              "  "
            ]
          },
          "metadata": {},
          "execution_count": 104
        }
      ]
    },
    {
      "cell_type": "markdown",
      "source": [
        "# **Pre-Processing**"
      ],
      "metadata": {
        "id": "EmAPzUnI2KsY"
      }
    },
    {
      "cell_type": "code",
      "source": [
        "#Preprocessing the text\n",
        "convert_to_lower_case()\n",
        "remove_punctuation()\n",
        "lemmatize()\n",
        "remove_stopwords()\n",
        "\n",
        "#Preparing data for model\n",
        "print(dataset.head())\n"
      ],
      "metadata": {
        "id": "kB7ePdnFwTkz",
        "colab": {
          "base_uri": "https://localhost:8080/"
        },
        "outputId": "a3464d38-1c9d-4ac4-b1ec-d636e1cff35c"
      },
      "execution_count": 105,
      "outputs": [
        {
          "output_type": "stream",
          "name": "stdout",
          "text": [
            "   Sentiment                                               News\n",
            "0          0  accord gran company plan production russia com...\n",
            "1          0  technopoli plan develop stage area square mete...\n",
            "2          2  international electronic industry company elco...\n",
            "3          1  new production plant company increase capacity...\n",
            "4          1  accord company update strategy year basware ta...\n"
          ]
        }
      ]
    },
    {
      "cell_type": "code",
      "source": [
        "dataset.columns"
      ],
      "metadata": {
        "colab": {
          "base_uri": "https://localhost:8080/"
        },
        "id": "NGzDQDE5D8CA",
        "outputId": "9c54e6b8-0b77-4c02-b14e-d94e8df2197e"
      },
      "execution_count": 106,
      "outputs": [
        {
          "output_type": "execute_result",
          "data": {
            "text/plain": [
              "Index(['Sentiment', 'News'], dtype='object')"
            ]
          },
          "metadata": {},
          "execution_count": 106
        }
      ]
    },
    {
      "cell_type": "code",
      "source": [
        "x_train, x_test, y_train, y_test =split_train_test()"
      ],
      "metadata": {
        "id": "D6cYrDqZHp89"
      },
      "execution_count": 107,
      "outputs": []
    },
    {
      "cell_type": "markdown",
      "source": [
        "# **Model Training**"
      ],
      "metadata": {
        "id": "vZ1jUuq83-Ox"
      }
    },
    {
      "cell_type": "markdown",
      "source": [
        "**N-Grams, Decision Tree Classifier**"
      ],
      "metadata": {
        "id": "roT8qFP34Ei3"
      }
    },
    {
      "cell_type": "code",
      "source": [
        "from sklearn.feature_extraction.text import CountVectorizer\n",
        "vect = CountVectorizer(min_df= 5, ngram_range=(1,2)).fit(x_train)"
      ],
      "metadata": {
        "id": "KgOs-H2z4HC3"
      },
      "execution_count": 108,
      "outputs": []
    },
    {
      "cell_type": "code",
      "source": [
        "len(vect.get_feature_names())"
      ],
      "metadata": {
        "colab": {
          "base_uri": "https://localhost:8080/"
        },
        "id": "xD3fZMPs5Hqm",
        "outputId": "62ee0559-a738-4f28-8086-79dd8c66e733"
      },
      "execution_count": 109,
      "outputs": [
        {
          "output_type": "stream",
          "name": "stderr",
          "text": [
            "/usr/local/lib/python3.8/dist-packages/sklearn/utils/deprecation.py:87: FutureWarning: Function get_feature_names is deprecated; get_feature_names is deprecated in 1.0 and will be removed in 1.2. Please use get_feature_names_out instead.\n",
            "  warnings.warn(msg, category=FutureWarning)\n"
          ]
        },
        {
          "output_type": "execute_result",
          "data": {
            "text/plain": [
              "1936"
            ]
          },
          "metadata": {},
          "execution_count": 109
        }
      ]
    },
    {
      "cell_type": "code",
      "source": [
        "X_train_vectorized = vect.transform(x_train)"
      ],
      "metadata": {
        "id": "fEd1I6hl5KqW"
      },
      "execution_count": 110,
      "outputs": []
    },
    {
      "cell_type": "code",
      "source": [
        "print(X_train_vectorized)"
      ],
      "metadata": {
        "id": "K4iWLAp55SoY",
        "colab": {
          "base_uri": "https://localhost:8080/"
        },
        "outputId": "595997aa-8e88-4f6b-e421-6d42bee4d54a"
      },
      "execution_count": 111,
      "outputs": [
        {
          "output_type": "stream",
          "name": "stdout",
          "text": [
            "  (0, 75)\t1\n",
            "  (0, 77)\t1\n",
            "  (0, 143)\t1\n",
            "  (0, 244)\t1\n",
            "  (0, 266)\t1\n",
            "  (0, 281)\t1\n",
            "  (0, 299)\t1\n",
            "  (0, 374)\t1\n",
            "  (0, 483)\t1\n",
            "  (0, 801)\t1\n",
            "  (0, 807)\t1\n",
            "  (0, 974)\t1\n",
            "  (0, 982)\t1\n",
            "  (0, 1040)\t1\n",
            "  (0, 1041)\t2\n",
            "  (0, 1046)\t1\n",
            "  (0, 1190)\t1\n",
            "  (0, 1235)\t1\n",
            "  (0, 1238)\t1\n",
            "  (0, 1379)\t1\n",
            "  (0, 1482)\t1\n",
            "  (0, 1539)\t1\n",
            "  (0, 1923)\t1\n",
            "  (1, 94)\t1\n",
            "  (1, 173)\t1\n",
            "  :\t:\n",
            "  (3873, 173)\t1\n",
            "  (3873, 443)\t1\n",
            "  (3873, 506)\t1\n",
            "  (3873, 509)\t2\n",
            "  (3873, 537)\t1\n",
            "  (3873, 1011)\t1\n",
            "  (3873, 1326)\t1\n",
            "  (3873, 1635)\t1\n",
            "  (3873, 1857)\t1\n",
            "  (3873, 1923)\t1\n",
            "  (3874, 94)\t1\n",
            "  (3874, 160)\t1\n",
            "  (3874, 424)\t1\n",
            "  (3874, 666)\t1\n",
            "  (3874, 784)\t1\n",
            "  (3874, 916)\t1\n",
            "  (3874, 1353)\t1\n",
            "  (3874, 1391)\t1\n",
            "  (3875, 37)\t1\n",
            "  (3875, 500)\t1\n",
            "  (3875, 501)\t1\n",
            "  (3875, 634)\t1\n",
            "  (3875, 1169)\t1\n",
            "  (3875, 1265)\t1\n",
            "  (3875, 1796)\t1\n"
          ]
        }
      ]
    },
    {
      "cell_type": "code",
      "source": [
        "from sklearn.tree import DecisionTreeClassifier\n",
        "DT = DecisionTreeClassifier()\n",
        "DT.fit(X_train_vectorized, y_train)"
      ],
      "metadata": {
        "colab": {
          "base_uri": "https://localhost:8080/"
        },
        "id": "KvUJEV5qKpYk",
        "outputId": "90d351a2-c284-4ed6-a45f-db7e0b6607a4"
      },
      "execution_count": 112,
      "outputs": [
        {
          "output_type": "execute_result",
          "data": {
            "text/plain": [
              "DecisionTreeClassifier()"
            ]
          },
          "metadata": {},
          "execution_count": 112
        }
      ]
    },
    {
      "cell_type": "code",
      "source": [
        "X_test_vectorized = vect.transform(x_test)"
      ],
      "metadata": {
        "id": "ZghIfg6YLRQT"
      },
      "execution_count": 113,
      "outputs": []
    },
    {
      "cell_type": "code",
      "source": [
        "DT_predictions = DT.predict(X_test_vectorized)\n",
        "DT_score = DT.score(X_test_vectorized, y_test)\n",
        "print(DT_score)"
      ],
      "metadata": {
        "colab": {
          "base_uri": "https://localhost:8080/"
        },
        "id": "qYGMk-jmKpgB",
        "outputId": "bd9c0bfa-16f7-4516-d695-9d8e9d38183b"
      },
      "execution_count": 114,
      "outputs": [
        {
          "output_type": "stream",
          "name": "stdout",
          "text": [
            "0.7082474226804124\n"
          ]
        }
      ]
    },
    {
      "cell_type": "code",
      "source": [
        "from sklearn.metrics import classification_report, confusion_matrix"
      ],
      "metadata": {
        "id": "cuFcrCH4iHp1"
      },
      "execution_count": 115,
      "outputs": []
    },
    {
      "cell_type": "code",
      "source": [
        "print(classification_report(y_test, DT_predictions))"
      ],
      "metadata": {
        "colab": {
          "base_uri": "https://localhost:8080/"
        },
        "id": "qCuRslzIiU3m",
        "outputId": "f67ca9af-1eac-47ae-a0f0-76137cef7785"
      },
      "execution_count": 116,
      "outputs": [
        {
          "output_type": "stream",
          "name": "stdout",
          "text": [
            "              precision    recall  f1-score   support\n",
            "\n",
            "           0       0.77      0.81      0.79       576\n",
            "           1       0.65      0.57      0.61       273\n",
            "           2       0.53      0.54      0.53       121\n",
            "\n",
            "    accuracy                           0.71       970\n",
            "   macro avg       0.65      0.64      0.64       970\n",
            "weighted avg       0.70      0.71      0.71       970\n",
            "\n"
          ]
        }
      ]
    },
    {
      "cell_type": "code",
      "source": [
        "cm=confusion_matrix(y_test, DT_predictions,normalize='true')\n",
        "cm"
      ],
      "metadata": {
        "colab": {
          "base_uri": "https://localhost:8080/"
        },
        "id": "Q_fvuFJH1DNh",
        "outputId": "09545115-5962-439c-b81b-b48f12c14fc6"
      },
      "execution_count": 117,
      "outputs": [
        {
          "output_type": "execute_result",
          "data": {
            "text/plain": [
              "array([[0.80902778, 0.11805556, 0.07291667],\n",
              "       [0.36996337, 0.57142857, 0.05860806],\n",
              "       [0.33057851, 0.1322314 , 0.53719008]])"
            ]
          },
          "metadata": {},
          "execution_count": 117
        }
      ]
    },
    {
      "cell_type": "code",
      "source": [
        "import seaborn as sn\n",
        "classes=['neutral','positive','negative']\n",
        "df_cm=pd.DataFrame(cm,index=classes,columns=classes)\n",
        "ax=sn.heatmap(df_cm,annot=True,fmt='g')\n",
        "ax.set_xlabel(\"predicted\")\n",
        "ax.set_ylabel(\"target\")\n",
        "plt.title('Decision Tree classifier accuracy 70% ')"
      ],
      "metadata": {
        "colab": {
          "base_uri": "https://localhost:8080/",
          "height": 313
        },
        "id": "d3qt_7Ue1gIq",
        "outputId": "148d1d62-71fd-427a-e53f-c93b9f539ea7"
      },
      "execution_count": 118,
      "outputs": [
        {
          "output_type": "execute_result",
          "data": {
            "text/plain": [
              "Text(0.5, 1.0, 'Decision Tree classifier accuracy 70% ')"
            ]
          },
          "metadata": {},
          "execution_count": 118
        },
        {
          "output_type": "display_data",
          "data": {
            "text/plain": [
              "<Figure size 432x288 with 2 Axes>"
            ],
            "image/png": "[encoded data removed]"
          },
          "metadata": {
            "needs_background": "light"
          }
        }
      ]
    },
    {
      "cell_type": "code",
      "source": [
        "print(DT_predictions)"
      ],
      "metadata": {
        "colab": {
          "base_uri": "https://localhost:8080/"
        },
        "id": "1LLK0yvGLsmy",
        "outputId": "34a4fb31-a3d3-4299-9c5a-6a764125a604"
      },
      "execution_count": 119,
      "outputs": [
        {
          "output_type": "stream",
          "name": "stdout",
          "text": [
            "[2 0 0 2 0 0 0 0 2 2 0 0 0 0 1 0 0 1 2 1 0 0 1 2 2 0 0 0 0 0 0 0 0 0 1 0 0\n",
            " 0 1 2 2 0 2 0 0 0 1 0 0 0 0 0 0 0 0 0 0 0 0 0 0 2 0 0 2 0 0 2 0 1 1 0 0 1\n",
            " 0 0 0 1 0 1 1 0 1 2 2 1 0 1 0 0 0 1 2 0 0 1 0 0 0 0 2 0 0 1 2 0 0 0 0 2 0\n",
            " 0 1 1 1 0 0 1 2 0 0 0 2 0 1 0 1 1 0 0 0 1 0 0 0 1 0 0 2 2 1 2 0 0 0 1 1 0\n",
            " 0 1 0 0 1 2 0 0 0 2 1 2 0 1 0 0 0 1 0 0 1 0 0 0 0 2 0 1 0 0 1 1 1 0 0 1 0\n",
            " 0 1 0 0 0 2 1 1 1 0 2 1 0 0 0 2 0 0 0 0 0 0 0 0 0 0 0 0 0 1 0 0 0 0 1 0 0\n",
            " 0 0 0 0 0 2 0 2 1 0 0 1 1 1 0 1 0 0 1 0 0 1 1 0 0 0 0 0 0 2 0 0 1 0 0 1 1\n",
            " 0 0 0 0 0 1 0 1 0 0 0 1 0 0 0 0 0 1 0 0 0 0 0 2 0 1 1 1 0 1 0 1 2 0 0 1 1\n",
            " 0 1 1 0 0 0 0 0 0 0 0 0 0 0 2 0 1 0 0 0 1 0 0 1 0 1 0 0 0 0 0 0 0 0 0 0 0\n",
            " 0 0 2 0 1 0 0 0 1 0 0 0 2 0 2 0 2 1 0 0 0 0 1 2 0 0 0 0 0 1 2 0 0 0 1 0 1\n",
            " 0 1 1 0 0 0 2 2 2 0 0 0 0 2 0 0 0 0 0 1 1 0 1 0 0 1 0 0 1 0 1 0 2 2 0 2 0\n",
            " 0 0 0 1 0 1 2 0 0 0 0 0 0 1 0 1 0 1 0 1 0 1 1 0 0 0 0 2 1 0 0 0 1 0 0 0 0\n",
            " 0 0 0 0 0 0 0 2 0 1 2 0 1 1 0 1 0 0 0 0 2 1 0 1 1 0 1 2 2 0 0 2 1 0 1 0 0\n",
            " 0 0 1 0 2 0 0 0 1 0 1 1 2 0 0 0 0 0 0 2 0 1 0 1 1 0 0 0 0 2 2 0 2 1 1 0 0\n",
            " 0 0 1 0 0 0 1 0 1 0 0 0 1 2 2 1 0 0 2 0 0 0 0 1 0 0 0 0 0 1 0 0 0 2 0 2 0\n",
            " 0 0 1 1 0 0 0 0 0 0 1 0 0 0 0 2 1 0 0 1 0 2 0 0 1 1 0 0 0 2 0 0 0 0 0 0 1\n",
            " 2 0 1 0 0 0 0 0 0 0 1 0 0 0 0 1 0 2 0 0 0 0 2 1 0 0 2 2 0 1 2 0 0 1 2 0 1\n",
            " 1 0 2 0 0 0 1 0 0 0 1 0 2 1 0 0 2 0 0 1 0 1 1 1 0 0 0 1 0 0 2 0 1 0 0 0 0\n",
            " 0 0 1 0 0 1 2 0 0 1 2 0 0 1 1 0 1 0 0 0 0 1 0 0 0 0 0 2 1 2 2 1 0 1 0 1 1\n",
            " 1 0 0 0 0 1 0 2 0 0 0 0 0 0 2 0 0 0 0 0 2 2 1 0 0 0 2 0 0 0 0 1 0 1 1 2 0\n",
            " 1 2 0 0 0 0 0 1 1 0 1 1 1 2 1 0 0 0 0 1 0 2 0 0 1 0 1 2 0 2 1 0 1 0 1 0 1\n",
            " 1 0 1 0 0 0 0 0 0 0 0 0 0 0 0 1 1 1 0 1 1 1 0 0 1 0 0 1 0 0 0 2 0 0 1 1 1\n",
            " 0 0 0 0 0 0 0 0 1 0 0 0 0 0 0 2 0 0 0 0 0 0 2 0 1 0 0 1 1 0 1 2 1 0 1 0 0\n",
            " 0 1 1 2 2 1 0 0 0 0 1 0 2 0 0 1 0 0 2 0 1 0 0 1 2 0 0 1 0 0 0 0 0 1 0 1 2\n",
            " 1 0 0 0 0 1 1 0 1 0 2 1 0 1 2 0 1 0 0 1 0 0 0 0 0 0 1 1 0 2 1 0 2 0 1 2 2\n",
            " 1 0 0 0 0 0 2 0 0 1 0 0 0 2 1 0 1 1 1 2 0 0 0 0 2 1 0 1 0 2 1 0 0 1 0 0 1\n",
            " 0 2 1 2 1 0 2 0]\n"
          ]
        }
      ]
    },
    {
      "cell_type": "code",
      "source": [
        "print(y_test)"
      ],
      "metadata": {
        "colab": {
          "base_uri": "https://localhost:8080/"
        },
        "id": "CRnfy4rqLv2C",
        "outputId": "3fae3a2c-1d87-480a-e119-22ca6480049b"
      },
      "execution_count": 120,
      "outputs": [
        {
          "output_type": "stream",
          "name": "stdout",
          "text": [
            "[0 0 0 0 0 0 2 0 0 2 0 0 0 0 1 0 0 1 2 0 1 0 1 0 2 1 0 0 0 0 1 0 0 0 1 0 0\n",
            " 1 1 1 0 0 2 1 0 0 0 0 0 0 0 0 0 1 0 0 1 0 1 1 0 0 0 0 2 0 0 2 0 2 2 1 0 0\n",
            " 1 0 0 1 0 1 0 1 1 0 2 1 0 1 1 0 0 1 2 0 0 1 0 0 2 0 2 0 0 1 0 0 0 0 0 1 0\n",
            " 2 1 0 0 0 0 1 2 1 0 1 0 0 2 0 1 1 0 0 0 1 1 0 0 2 2 0 2 2 1 2 0 0 1 0 1 0\n",
            " 0 1 1 0 0 0 0 0 0 2 0 2 0 1 0 0 1 1 0 0 1 0 0 0 0 2 0 1 1 2 1 1 2 0 1 1 0\n",
            " 1 1 2 0 0 2 1 0 1 0 2 1 0 0 0 0 0 0 0 0 0 2 0 1 2 1 0 0 0 1 1 1 0 0 0 0 0\n",
            " 0 0 0 0 0 2 0 1 1 0 0 1 0 0 0 2 0 0 0 1 1 1 1 0 2 0 1 1 0 0 1 0 1 0 0 1 0\n",
            " 0 0 0 0 1 1 0 1 0 0 0 0 1 0 0 0 0 0 0 0 0 0 0 2 0 1 1 1 0 1 1 1 2 0 0 0 1\n",
            " 0 0 0 0 0 0 0 0 1 0 1 0 1 0 2 0 1 1 0 1 1 0 2 1 1 1 0 0 0 0 2 0 0 1 0 0 0\n",
            " 0 1 2 0 1 0 2 0 1 0 0 1 2 0 0 1 2 1 1 0 0 0 1 2 0 0 0 0 1 1 2 0 0 0 0 0 1\n",
            " 2 1 1 2 2 1 2 0 2 0 1 0 0 2 0 0 0 0 0 1 1 0 1 1 0 0 0 0 0 0 1 0 0 1 0 0 0\n",
            " 0 1 2 1 0 0 0 1 0 2 0 0 0 1 0 1 0 0 1 1 1 0 1 0 1 0 0 0 1 0 0 0 0 0 0 0 2\n",
            " 0 0 1 0 0 0 0 1 0 1 0 2 1 1 0 0 0 0 0 0 0 0 0 1 1 0 0 0 0 0 0 0 1 0 2 2 2\n",
            " 0 0 1 0 2 0 0 1 1 0 1 1 2 2 1 0 0 0 0 1 1 1 2 0 1 0 0 0 0 0 2 1 0 1 0 0 0\n",
            " 1 0 1 0 1 0 1 1 1 2 0 0 1 2 2 1 0 0 0 1 0 0 2 1 0 1 0 0 0 0 0 0 0 2 0 1 0\n",
            " 0 2 1 1 0 0 2 0 1 0 1 2 0 0 0 0 2 0 0 0 0 0 1 0 1 1 0 2 0 0 0 0 0 0 0 0 1\n",
            " 0 1 2 0 0 0 0 0 0 0 1 0 0 0 1 1 0 2 0 0 0 0 0 0 1 1 2 2 2 1 2 0 0 1 0 0 1\n",
            " 0 0 2 0 0 0 1 0 0 0 1 0 0 1 1 0 1 1 2 0 0 0 1 2 2 0 0 0 0 0 2 0 1 0 0 2 0\n",
            " 1 0 1 1 0 1 2 1 0 0 2 1 0 0 0 0 0 0 0 0 0 2 1 0 0 0 1 1 1 2 1 2 0 0 2 1 1\n",
            " 1 0 0 0 0 2 0 0 0 0 0 0 1 0 2 0 0 0 0 0 2 1 1 0 0 0 2 1 0 1 0 1 0 0 1 0 0\n",
            " 1 2 0 0 0 0 0 1 1 0 0 1 1 0 1 0 2 1 0 1 0 2 0 0 1 1 0 2 1 0 1 2 1 2 1 0 0\n",
            " 1 0 1 0 0 0 0 0 0 1 0 0 0 0 0 0 0 1 0 0 0 0 0 0 1 0 0 2 1 0 1 2 0 0 1 1 2\n",
            " 0 0 0 0 0 2 0 0 0 0 1 0 0 0 0 1 0 0 0 0 0 0 2 0 1 0 0 1 0 0 1 2 1 0 1 0 0\n",
            " 0 2 1 0 1 0 0 1 0 0 1 0 2 0 1 0 0 0 2 0 0 2 0 1 2 1 0 1 1 0 0 0 1 1 0 0 2\n",
            " 1 0 0 0 0 1 0 0 0 0 1 0 0 1 2 1 1 1 0 0 0 0 0 0 0 0 1 0 0 2 0 1 2 0 1 2 1\n",
            " 0 0 1 1 0 0 2 0 1 0 0 0 0 2 1 1 1 1 1 1 0 0 0 0 2 1 0 1 0 0 1 2 1 1 0 0 1\n",
            " 0 0 0 0 1 0 0 0]\n"
          ]
        }
      ]
    },
    {
      "cell_type": "markdown",
      "source": [
        "**Random Forest Classifier**"
      ],
      "metadata": {
        "id": "CAXJ15ejMQ0J"
      }
    },
    {
      "cell_type": "code",
      "source": [
        "from sklearn.ensemble import RandomForestClassifier"
      ],
      "metadata": {
        "id": "I9a7ZmQ9ioVA"
      },
      "execution_count": 121,
      "outputs": []
    },
    {
      "cell_type": "code",
      "source": [
        "RFC = RandomForestClassifier(n_estimators = 100)"
      ],
      "metadata": {
        "id": "BoghwDf8UWtV"
      },
      "execution_count": 122,
      "outputs": []
    },
    {
      "cell_type": "code",
      "source": [
        "RFC.fit(X_train_vectorized, y_train)"
      ],
      "metadata": {
        "colab": {
          "base_uri": "https://localhost:8080/"
        },
        "id": "tHkjI30IUlF-",
        "outputId": "2971e171-9469-4cf7-a6cf-e42cf1330850"
      },
      "execution_count": 123,
      "outputs": [
        {
          "output_type": "execute_result",
          "data": {
            "text/plain": [
              "RandomForestClassifier()"
            ]
          },
          "metadata": {},
          "execution_count": 123
        }
      ]
    },
    {
      "cell_type": "code",
      "source": [
        "RFC_predict = RFC.predict(X_test_vectorized)"
      ],
      "metadata": {
        "id": "3fEEno-CUofE"
      },
      "execution_count": 124,
      "outputs": []
    },
    {
      "cell_type": "code",
      "source": [
        "RFC_score = RFC.score(X_test_vectorized, y_test)\n",
        "print(RFC_score)"
      ],
      "metadata": {
        "colab": {
          "base_uri": "https://localhost:8080/"
        },
        "id": "xFyk1naiUwiL",
        "outputId": "1d72c548-62a2-4341-ec12-dc8f51b23dfc"
      },
      "execution_count": 125,
      "outputs": [
        {
          "output_type": "stream",
          "name": "stdout",
          "text": [
            "0.7701030927835052\n"
          ]
        }
      ]
    },
    {
      "cell_type": "code",
      "source": [
        "print(classification_report(y_test, RFC_predict))"
      ],
      "metadata": {
        "colab": {
          "base_uri": "https://localhost:8080/"
        },
        "id": "cn_wEXNiM5cU",
        "outputId": "344c14ed-69d2-48b6-9773-5fc625f82a23"
      },
      "execution_count": 126,
      "outputs": [
        {
          "output_type": "stream",
          "name": "stdout",
          "text": [
            "              precision    recall  f1-score   support\n",
            "\n",
            "           0       0.78      0.92      0.84       576\n",
            "           1       0.77      0.58      0.66       273\n",
            "           2       0.72      0.48      0.58       121\n",
            "\n",
            "    accuracy                           0.77       970\n",
            "   macro avg       0.76      0.66      0.69       970\n",
            "weighted avg       0.77      0.77      0.76       970\n",
            "\n"
          ]
        }
      ]
    },
    {
      "cell_type": "code",
      "source": [
        "import seaborn as sn\n",
        "classes=['neutral','positive','negative']\n",
        "df_cm=pd.DataFrame(cm,index=classes,columns=classes)\n",
        "ax=sn.heatmap(df_cm,annot=True,fmt='g')\n",
        "ax.set_xlabel(\"predicted\")\n",
        "ax.set_ylabel(\"target\")\n",
        "plt.title('Random Forest classifier using countvectorizer accuracy 77% ')"
      ],
      "metadata": {
        "colab": {
          "base_uri": "https://localhost:8080/",
          "height": 313
        },
        "id": "Rj_abco05ewg",
        "outputId": "76aa2cc1-9c0f-44b0-d7c9-c0eeea15a9db"
      },
      "execution_count": 127,
      "outputs": [
        {
          "output_type": "execute_result",
          "data": {
            "text/plain": [
              "Text(0.5, 1.0, 'Random Forest classifier using countvectorizer accuracy 77% ')"
            ]
          },
          "metadata": {},
          "execution_count": 127
        },
        {
          "output_type": "display_data",
          "data": {
            "text/plain": [
              "<Figure size 432x288 with 2 Axes>"
            ],
            "image/png": "[encoded data removed]"
          },
          "metadata": {
            "needs_background": "light"
          }
        }
      ]
    },
    {
      "cell_type": "markdown",
      "source": [
        "**TF-IDF**"
      ],
      "metadata": {
        "id": "dXsTng-18OUd"
      }
    },
    {
      "cell_type": "code",
      "source": [
        "from sklearn.feature_extraction.text import TfidfVectorizer\n",
        "tfidf_vect = TfidfVectorizer().fit(x_train)"
      ],
      "metadata": {
        "id": "mfgFA9_p8Q-r"
      },
      "execution_count": 128,
      "outputs": []
    },
    {
      "cell_type": "code",
      "source": [
        "X_train_vectorized_tfidf = tfidf_vect.transform(x_train)"
      ],
      "metadata": {
        "id": "IfeSiIog8SBc"
      },
      "execution_count": 129,
      "outputs": []
    },
    {
      "cell_type": "code",
      "source": [
        "RFC.fit(X_train_vectorized_tfidf, y_train)"
      ],
      "metadata": {
        "colab": {
          "base_uri": "https://localhost:8080/"
        },
        "outputId": "7e6d8868-bc67-4a62-fab8-37f053d5a414",
        "id": "fwZZigtwORdp"
      },
      "execution_count": 130,
      "outputs": [
        {
          "output_type": "execute_result",
          "data": {
            "text/plain": [
              "RandomForestClassifier()"
            ]
          },
          "metadata": {},
          "execution_count": 130
        }
      ]
    },
    {
      "cell_type": "code",
      "source": [
        "RFC_predict = RFC.predict(tfidf_vect.transform(x_test))"
      ],
      "metadata": {
        "id": "YBC_vijfORdr"
      },
      "execution_count": 131,
      "outputs": []
    },
    {
      "cell_type": "code",
      "source": [
        "RFC_score = RFC.score(tfidf_vect.transform(x_test), y_test)\n",
        "print(RFC_score)"
      ],
      "metadata": {
        "colab": {
          "base_uri": "https://localhost:8080/"
        },
        "outputId": "c7e8f1d8-9a49-4694-b181-b42c999539c1",
        "id": "pma-UQcyORdr"
      },
      "execution_count": 132,
      "outputs": [
        {
          "output_type": "stream",
          "name": "stdout",
          "text": [
            "0.7649484536082474\n"
          ]
        }
      ]
    },
    {
      "cell_type": "code",
      "source": [
        "print(classification_report(y_test, RFC_predict))"
      ],
      "metadata": {
        "colab": {
          "base_uri": "https://localhost:8080/"
        },
        "outputId": "c8f9b420-3544-4c70-ec69-98c1732ad195",
        "id": "XKCvJ3cTORds"
      },
      "execution_count": 133,
      "outputs": [
        {
          "output_type": "stream",
          "name": "stdout",
          "text": [
            "              precision    recall  f1-score   support\n",
            "\n",
            "           0       0.77      0.94      0.85       576\n",
            "           1       0.76      0.53      0.62       273\n",
            "           2       0.73      0.49      0.58       121\n",
            "\n",
            "    accuracy                           0.76       970\n",
            "   macro avg       0.75      0.65      0.68       970\n",
            "weighted avg       0.76      0.76      0.75       970\n",
            "\n"
          ]
        }
      ]
    },
    {
      "cell_type": "code",
      "source": [
        "import seaborn as sn\n",
        "classes=['neutral','positive','negative']\n",
        "df_cm=pd.DataFrame(cm,index=classes,columns=classes)\n",
        "ax=sn.heatmap(df_cm,annot=True,fmt='g')\n",
        "ax.set_xlabel(\"predicted\")\n",
        "ax.set_ylabel(\"target\")\n",
        "plt.title('Decision Tree classifier using tf-idf accuracy 75% ')"
      ],
      "metadata": {
        "colab": {
          "base_uri": "https://localhost:8080/",
          "height": 313
        },
        "id": "h3HieBpp6cu3",
        "outputId": "18e85156-35f2-4070-9405-f83508fd1b94"
      },
      "execution_count": 134,
      "outputs": [
        {
          "output_type": "execute_result",
          "data": {
            "text/plain": [
              "Text(0.5, 1.0, 'Decision Tree classifier using tf-idf accuracy 75% ')"
            ]
          },
          "metadata": {},
          "execution_count": 134
        },
        {
          "output_type": "display_data",
          "data": {
            "text/plain": [
              "<Figure size 432x288 with 2 Axes>"
            ],
            "image/png": "[encoded data removed]"
          },
          "metadata": {
            "needs_background": "light"
          }
        }
      ]
    },
    {
      "cell_type": "code",
      "source": [
        "DT.fit(X_train_vectorized_tfidf, y_train)"
      ],
      "metadata": {
        "colab": {
          "base_uri": "https://localhost:8080/"
        },
        "id": "lM2ZxxLgOtGP",
        "outputId": "4e44acb7-abb7-410e-a719-f1509d53ebe0"
      },
      "execution_count": 135,
      "outputs": [
        {
          "output_type": "execute_result",
          "data": {
            "text/plain": [
              "DecisionTreeClassifier()"
            ]
          },
          "metadata": {},
          "execution_count": 135
        }
      ]
    },
    {
      "cell_type": "code",
      "source": [
        "DT_predict = DT.predict(tfidf_vect.transform(x_test))"
      ],
      "metadata": {
        "id": "U14h6us9O4KG"
      },
      "execution_count": 136,
      "outputs": []
    },
    {
      "cell_type": "code",
      "source": [
        "DT_score = RFC.score(tfidf_vect.transform(x_test), y_test)\n",
        "print(DT_score)"
      ],
      "metadata": {
        "colab": {
          "base_uri": "https://localhost:8080/"
        },
        "outputId": "824ee7db-e4dd-4203-f85f-cb31e2b97f8b",
        "id": "uwgYH17AO4KH"
      },
      "execution_count": 137,
      "outputs": [
        {
          "output_type": "stream",
          "name": "stdout",
          "text": [
            "0.7649484536082474\n"
          ]
        }
      ]
    },
    {
      "cell_type": "code",
      "source": [
        "print(classification_report(y_test, DT_predict))"
      ],
      "metadata": {
        "colab": {
          "base_uri": "https://localhost:8080/"
        },
        "outputId": "ee02b027-fb54-4c4f-df20-66fbf1294503",
        "id": "n_NSBPo3O4KH"
      },
      "execution_count": 138,
      "outputs": [
        {
          "output_type": "stream",
          "name": "stdout",
          "text": [
            "              precision    recall  f1-score   support\n",
            "\n",
            "           0       0.78      0.81      0.79       576\n",
            "           1       0.60      0.58      0.59       273\n",
            "           2       0.60      0.56      0.58       121\n",
            "\n",
            "    accuracy                           0.71       970\n",
            "   macro avg       0.66      0.65      0.65       970\n",
            "weighted avg       0.71      0.71      0.71       970\n",
            "\n"
          ]
        }
      ]
    },
    {
      "cell_type": "code",
      "source": [
        "import seaborn as sn\n",
        "classes=['neutral','positive','negative']\n",
        "df_cm=pd.DataFrame(cm,index=classes,columns=classes)\n",
        "ax=sn.heatmap(df_cm,annot=True,fmt='g')\n",
        "ax.set_xlabel(\"predicted\")\n",
        "ax.set_ylabel(\"target\")\n",
        "plt.title('Random Forest classifier using tf-idf accuracy 79% ')"
      ],
      "metadata": {
        "colab": {
          "base_uri": "https://localhost:8080/",
          "height": 313
        },
        "id": "bBwyj3SG6Inj",
        "outputId": "5c3df67d-7be5-468a-a997-df8211f8aa83"
      },
      "execution_count": 139,
      "outputs": [
        {
          "output_type": "execute_result",
          "data": {
            "text/plain": [
              "Text(0.5, 1.0, 'Random Forest classifier using tf-idf accuracy 79% ')"
            ]
          },
          "metadata": {},
          "execution_count": 139
        },
        {
          "output_type": "display_data",
          "data": {
            "text/plain": [
              "<Figure size 432x288 with 2 Axes>"
            ],
            "image/png": "[encoded data removed]"
          },
          "metadata": {
            "needs_background": "light"
          }
        }
      ]
    },
    {
      "cell_type": "markdown",
      "source": [
        "**GRU**"
      ],
      "metadata": {
        "id": "NINTIAk_4BSH"
      }
    },
    {
      "cell_type": "code",
      "source": [
        "num_words=1000 # number of words that we are going to use. \n",
        "\n",
        "data = dataset['News'].values.tolist()\n",
        "\n",
        "tokenizer=Tokenizer(num_words=num_words)\n",
        "tokenizer.fit_on_texts(data)\n",
        "\n",
        "#tokenization\n",
        "x_train_tokens=tokenizer.texts_to_sequences(x_train)\n",
        "x_test_tokens=tokenizer.texts_to_sequences(x_test)\n",
        "\n",
        "\n",
        "#padding\n",
        "x_train_pad=pad_sequences(x_train_tokens)\n",
        "x_test_pad=pad_sequences(x_test_tokens)"
      ],
      "metadata": {
        "id": "RkfoMX5QY9Lh"
      },
      "execution_count": 140,
      "outputs": []
    },
    {
      "cell_type": "code",
      "source": [
        "x_train_pad.shape"
      ],
      "metadata": {
        "id": "BEW1IijmfYcb",
        "colab": {
          "base_uri": "https://localhost:8080/"
        },
        "outputId": "f406ca3d-b7ee-4cf2-97df-e31ea0f5800d"
      },
      "execution_count": 141,
      "outputs": [
        {
          "output_type": "execute_result",
          "data": {
            "text/plain": [
              "(3876, 28)"
            ]
          },
          "metadata": {},
          "execution_count": 141
        }
      ]
    },
    {
      "cell_type": "code",
      "source": [
        "model=Sequential()\n",
        "embedding_size=50  #create a 50 size vector for each word.\n",
        "model.add(Embedding(input_dim=num_words,\n",
        "                    output_dim=embedding_size,\n",
        "                    input_length=28,\n",
        "                    name='embedding_layer')) \n",
        "\n",
        "model.add(GRU(units=32,return_sequences=True))\n",
        "model.add(GRU(units=16,return_sequences=True) )\n",
        "model.add(GRU(units=8, return_sequences=True))\n",
        "model.add(GRU(units=4))\n",
        "model.add(Dense(3,activation='softmax'))\n",
        "optimizer=Adam(lr=1e-3)"
      ],
      "metadata": {
        "colab": {
          "base_uri": "https://localhost:8080/"
        },
        "id": "nc9X7o-tfbyn",
        "outputId": "7ce0f500-8e6c-4ac9-b2fd-99544aa43654"
      },
      "execution_count": 142,
      "outputs": [
        {
          "output_type": "stream",
          "name": "stderr",
          "text": [
            "/usr/local/lib/python3.8/dist-packages/keras/optimizers/optimizer_v2/adam.py:110: UserWarning: The `lr` argument is deprecated, use `learning_rate` instead.\n",
            "  super(Adam, self).__init__(name, **kwargs)\n"
          ]
        }
      ]
    },
    {
      "cell_type": "code",
      "source": [
        "model.compile(loss='sparse_categorical_crossentropy',\n",
        "              optimizer=optimizer,\n",
        "              metrics=['accuracy'])"
      ],
      "metadata": {
        "id": "keYNpwYnfe2e"
      },
      "execution_count": 143,
      "outputs": []
    },
    {
      "cell_type": "code",
      "source": [
        "model.build(input_shape=(None,28))\n",
        "model.summary()"
      ],
      "metadata": {
        "colab": {
          "base_uri": "https://localhost:8080/"
        },
        "id": "v8kFp5Aufh8W",
        "outputId": "325c24b1-39ba-44d9-c7d1-d0476d3de727"
      },
      "execution_count": 144,
      "outputs": [
        {
          "output_type": "stream",
          "name": "stdout",
          "text": [
            "Model: \"sequential_6\"\n",
            "_________________________________________________________________\n",
            " Layer (type)                Output Shape              Param #   \n",
            "=================================================================\n",
            " module_wrapper_15 (ModuleWr  (None, 28, 50)           50000     \n",
            " apper)                                                          \n",
            "                                                                 \n",
            " module_wrapper_16 (ModuleWr  (None, 28, 32)           7968      \n",
            " apper)                                                          \n",
            "                                                                 \n",
            " module_wrapper_17 (ModuleWr  (None, 28, 16)           2352      \n",
            " apper)                                                          \n",
            "                                                                 \n",
            " module_wrapper_18 (ModuleWr  (None, 28, 8)            600       \n",
            " apper)                                                          \n",
            "                                                                 \n",
            " module_wrapper_19 (ModuleWr  (None, 4)                156       \n",
            " apper)                                                          \n",
            "                                                                 \n",
            " module_wrapper_20 (ModuleWr  (None, 3)                15        \n",
            " apper)                                                          \n",
            "                                                                 \n",
            "=================================================================\n",
            "Total params: 61,091\n",
            "Trainable params: 61,091\n",
            "Non-trainable params: 0\n",
            "_________________________________________________________________\n"
          ]
        }
      ]
    },
    {
      "cell_type": "code",
      "source": [
        "history = model.fit(x_train_pad,\n",
        "          y_train,\n",
        "          epochs=10, validation_split=0.2)"
      ],
      "metadata": {
        "colab": {
          "base_uri": "https://localhost:8080/"
        },
        "id": "B0ZXvSbAflAP",
        "outputId": "bb6475ea-94d0-40fc-9360-be9168e733e3"
      },
      "execution_count": 145,
      "outputs": [
        {
          "output_type": "stream",
          "name": "stdout",
          "text": [
            "Epoch 1/10\n",
            "97/97 [==============================] - 21s 117ms/step - loss: 0.9465 - accuracy: 0.5955 - val_loss: 0.8526 - val_accuracy: 0.6392\n",
            "Epoch 2/10\n",
            "97/97 [==============================] - 10s 99ms/step - loss: 0.7888 - accuracy: 0.6758 - val_loss: 0.7424 - val_accuracy: 0.6997\n",
            "Epoch 3/10\n",
            "97/97 [==============================] - 9s 95ms/step - loss: 0.6103 - accuracy: 0.7826 - val_loss: 0.6824 - val_accuracy: 0.7229\n",
            "Epoch 4/10\n",
            "97/97 [==============================] - 10s 102ms/step - loss: 0.5049 - accuracy: 0.8310 - val_loss: 0.7020 - val_accuracy: 0.7281\n",
            "Epoch 5/10\n",
            "97/97 [==============================] - 10s 104ms/step - loss: 0.4472 - accuracy: 0.8565 - val_loss: 0.7059 - val_accuracy: 0.7268\n",
            "Epoch 6/10\n",
            "97/97 [==============================] - 11s 118ms/step - loss: 0.4034 - accuracy: 0.8748 - val_loss: 0.7246 - val_accuracy: 0.7191\n",
            "Epoch 7/10\n",
            "97/97 [==============================] - 9s 92ms/step - loss: 0.3704 - accuracy: 0.8890 - val_loss: 0.7489 - val_accuracy: 0.7126\n",
            "Epoch 8/10\n",
            "97/97 [==============================] - 10s 102ms/step - loss: 0.3410 - accuracy: 0.9016 - val_loss: 0.7802 - val_accuracy: 0.7191\n",
            "Epoch 9/10\n",
            "97/97 [==============================] - 10s 102ms/step - loss: 0.3230 - accuracy: 0.9071 - val_loss: 0.8028 - val_accuracy: 0.7139\n",
            "Epoch 10/10\n",
            "97/97 [==============================] - 10s 103ms/step - loss: 0.3139 - accuracy: 0.9094 - val_loss: 0.8291 - val_accuracy: 0.7113\n"
          ]
        }
      ]
    },
    {
      "cell_type": "code",
      "source": [
        "print(history.history.keys())"
      ],
      "metadata": {
        "id": "NYWPYHm_hhbc",
        "colab": {
          "base_uri": "https://localhost:8080/"
        },
        "outputId": "c51eb746-95e1-41e4-a80e-4fe2a514214d"
      },
      "execution_count": 146,
      "outputs": [
        {
          "output_type": "stream",
          "name": "stdout",
          "text": [
            "dict_keys(['loss', 'accuracy', 'val_loss', 'val_accuracy'])\n"
          ]
        }
      ]
    },
    {
      "cell_type": "code",
      "metadata": {
        "colab": {
          "base_uri": "https://localhost:8080/",
          "height": 295
        },
        "id": "VPd3GXV4PeJc",
        "outputId": "ec75f385-8c7d-487e-8a6b-62b97a1a6ce3"
      },
      "source": [
        "plt.plot(history.history['accuracy'])\n",
        "plt.plot(history.history['val_accuracy'])\n",
        "plt.title('model accuracy')\n",
        "plt.ylabel('accuracy')\n",
        "plt.xlabel('epoch')\n",
        "plt.legend(['train', 'validation'], loc='lower right')\n",
        "plt.savefig('accuracy_epoch.png')\n",
        "plt.show()"
      ],
      "execution_count": 147,
      "outputs": [
        {
          "output_type": "display_data",
          "data": {
            "text/plain": [
              "<Figure size 432x288 with 1 Axes>"
            ],
            "image/png": "[encoded data removed]"
          },
          "metadata": {
            "needs_background": "light"
          }
        }
      ]
    },
    {
      "cell_type": "code",
      "metadata": {
        "colab": {
          "base_uri": "https://localhost:8080/",
          "height": 295
        },
        "id": "IjkFaRLrPkwJ",
        "outputId": "01a420e0-1141-4775-cfcb-712319112ecf"
      },
      "source": [
        "plt.plot(history.history['loss'])\n",
        "plt.plot(history.history['val_loss'])\n",
        "plt.title('model loss')\n",
        "plt.ylabel('loss')\n",
        "plt.xlabel('epoch')\n",
        "plt.legend(['train', 'validation'], loc='upper right')\n",
        "plt.savefig('loss_epoch.png')\n",
        "plt.show()"
      ],
      "execution_count": 148,
      "outputs": [
        {
          "output_type": "display_data",
          "data": {
            "text/plain": [
              "<Figure size 432x288 with 1 Axes>"
            ],
            "image/png": "[encoded data removed]"
          },
          "metadata": {
            "needs_background": "light"
          }
        }
      ]
    }
  ]
}