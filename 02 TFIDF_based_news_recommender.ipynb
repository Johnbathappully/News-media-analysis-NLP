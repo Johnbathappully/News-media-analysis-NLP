{
  "cells": [
    {
      "cell_type": "markdown",
      "metadata": {
        "id": "A-nA7F3AVjUK"
      },
      "source": [
        "### TFIDF based Recommendation system\n",
        "#### Recommender System based on tf-idf as vector representation of documents\n",
        "\n",
        "- Represent articles in terms of bag of words\n",
        "- Represent user in terms of read articles associated words\n",
        "- Generate TF-IDF matrix for user read articles and unread articles\n",
        "- Calculate cosine similarity between user read articles and unread articles\n",
        "- Get the recommended articles\n",
        "\n",
        "Describing parameters:\n",
        "\n",
        "- NEWS_ARTICLES: specify the path where news_article.csv is present\n",
        "- ARTICLES_READ: List of Article_Ids read by the user\n",
        "- NO_RECOMMENDED_ARTICLES: Refers to the number of recommended articles as a result"
      ]
    },
    {
      "cell_type": "code",
      "execution_count": null,
      "metadata": {
        "id": "GNxU4CYrVjUQ"
      },
      "outputs": [],
      "source": [
        "NEWS_ARTICLES=\"NewsArticles.csv\"\n",
        "ARTICLES_READ=[1,10]\n",
        "NUM_RECOMMENDED_ARTICLES=5"
      ]
    },
    {
      "cell_type": "code",
      "execution_count": null,
      "metadata": {
        "id": "SSzZU1NkVjUS"
      },
      "outputs": [],
      "source": [
        "try:\n",
        "    import numpy\n",
        "    import pandas as pd\n",
        "    import pickle as pk\n",
        "    from sklearn.feature_extraction.text import TfidfVectorizer\n",
        "    from sklearn.metrics.pairwise import cosine_similarity\n",
        "    import re\n",
        "    from nltk.stem.snowball import SnowballStemmer\n",
        "    import nltk\n",
        "    stemmer = SnowballStemmer(\"english\")\n",
        "except ImportError:\n",
        "    print('You are missing some packages! ' \\\n",
        "          'We will try installing them before continuing!')\n",
        "    !pip install \"numpy\" \"pandas\" \"sklearn\" \"nltk\"\n",
        "    import numpy\n",
        "    import pandas as pd\n",
        "    import pickle as pk\n",
        "    from sklearn.feature_extraction.text import TfidfVectorizer\n",
        "    from sklearn.metrics.pairwise import cosine_similarity\n",
        "    import re\n",
        "    from nltk.stem.snowball import SnowballStemmer\n",
        "    import nltk\n",
        "    stemmer = SnowballStemmer(\"english\")\n",
        "    print('Done!')"
      ]
    },
    {
      "cell_type": "markdown",
      "metadata": {
        "id": "Fk9-ypdxVjUT"
      },
      "source": [
        "#### Text sanitization\n",
        "\n",
        "- remove punctuations and other characters\n",
        "- tokenizing\n",
        "- stemming\n",
        "\n",
        "You might encounter some issues on utf-8 encoding while loading the dataframe. Use encoding option in pandas dataframe to resolve this issue.\n",
        "Issue: UnicodeDecodeError: 'utf-8' codec can't decode byte 0xa8 in position 28: invalid start byte"
      ]
    },
    {
      "cell_type": "code",
      "execution_count": null,
      "metadata": {
        "id": "8QPHUecyVjUT",
        "outputId": "a2aae0f8-97be-43c6-d607-00eab8e43477"
      },
      "outputs": [
        {
          "data": {
            "text/html": [
              "<div>\n",
              "<style scoped>\n",
              "    .dataframe tbody tr th:only-of-type {\n",
              "        vertical-align: middle;\n",
              "    }\n",
              "\n",
              "    .dataframe tbody tr th {\n",
              "        vertical-align: top;\n",
              "    }\n",
              "\n",
              "    .dataframe thead th {\n",
              "        text-align: right;\n",
              "    }\n",
              "</style>\n",
              "<table border=\"1\" class=\"dataframe\">\n",
              "  <thead>\n",
              "    <tr style=\"text-align: right;\">\n",
              "      <th></th>\n",
              "      <th>publish_date</th>\n",
              "      <th>article_source_link</th>\n",
              "      <th>title</th>\n",
              "      <th>subtitle</th>\n",
              "      <th>text</th>\n",
              "    </tr>\n",
              "    <tr>\n",
              "      <th>article_id</th>\n",
              "      <th></th>\n",
              "      <th></th>\n",
              "      <th></th>\n",
              "      <th></th>\n",
              "      <th></th>\n",
              "    </tr>\n",
              "  </thead>\n",
              "  <tbody>\n",
              "    <tr>\n",
              "      <th>1</th>\n",
              "      <td>2017/2/7</td>\n",
              "      <td>http://abcnews.go.com/Politics/pence-break-tie...</td>\n",
              "      <td>Betsy DeVos Confirmed as Education Secretary, ...</td>\n",
              "      <td>NaN</td>\n",
              "      <td>Michigan billionaire education activist Betsy ...</td>\n",
              "    </tr>\n",
              "    <tr>\n",
              "      <th>2</th>\n",
              "      <td>2017/2/7</td>\n",
              "      <td>http://abcnews.go.com/Politics/wireStory/melan...</td>\n",
              "      <td>Melania Trump Says White House Could Mean Mill...</td>\n",
              "      <td>NaN</td>\n",
              "      <td>First lady Melania Trump has said little about...</td>\n",
              "    </tr>\n",
              "    <tr>\n",
              "      <th>3</th>\n",
              "      <td>2017/2/7</td>\n",
              "      <td>http://abcnews.go.com/Politics/wireStory/trump...</td>\n",
              "      <td>As Trump Fears Fraud, GOP Eliminates Election ...</td>\n",
              "      <td>NaN</td>\n",
              "      <td>A House committee voted on Tuesday to eliminat...</td>\n",
              "    </tr>\n",
              "    <tr>\n",
              "      <th>4</th>\n",
              "      <td>2017/2/7</td>\n",
              "      <td>http://abcnews.go.com/Politics/appeals-court-d...</td>\n",
              "      <td>Appeals Court to Decide on Challenge to Trump'...</td>\n",
              "      <td>NaN</td>\n",
              "      <td>This afternoon, three federal judges from the ...</td>\n",
              "    </tr>\n",
              "    <tr>\n",
              "      <th>5</th>\n",
              "      <td>2017/2/7</td>\n",
              "      <td>http://abcnews.go.com/US/23-states-winter-weat...</td>\n",
              "      <td>At Least 4 Tornadoes Reported in Southeast Lou...</td>\n",
              "      <td>NaN</td>\n",
              "      <td>At least four tornadoes touched down in Louisi...</td>\n",
              "    </tr>\n",
              "  </tbody>\n",
              "</table>\n",
              "</div>"
            ],
            "text/plain": [
              "           publish_date                                article_source_link  \\\n",
              "article_id                                                                   \n",
              "1              2017/2/7  http://abcnews.go.com/Politics/pence-break-tie...   \n",
              "2              2017/2/7  http://abcnews.go.com/Politics/wireStory/melan...   \n",
              "3              2017/2/7  http://abcnews.go.com/Politics/wireStory/trump...   \n",
              "4              2017/2/7  http://abcnews.go.com/Politics/appeals-court-d...   \n",
              "5              2017/2/7  http://abcnews.go.com/US/23-states-winter-weat...   \n",
              "\n",
              "                                                        title subtitle  \\\n",
              "article_id                                                               \n",
              "1           Betsy DeVos Confirmed as Education Secretary, ...      NaN   \n",
              "2           Melania Trump Says White House Could Mean Mill...      NaN   \n",
              "3           As Trump Fears Fraud, GOP Eliminates Election ...      NaN   \n",
              "4           Appeals Court to Decide on Challenge to Trump'...      NaN   \n",
              "5           At Least 4 Tornadoes Reported in Southeast Lou...      NaN   \n",
              "\n",
              "                                                         text  \n",
              "article_id                                                     \n",
              "1           Michigan billionaire education activist Betsy ...  \n",
              "2           First lady Melania Trump has said little about...  \n",
              "3           A House committee voted on Tuesday to eliminat...  \n",
              "4           This afternoon, three federal judges from the ...  \n",
              "5           At least four tornadoes touched down in Louisi...  "
            ]
          },
          "execution_count": 3,
          "metadata": {},
          "output_type": "execute_result"
        }
      ],
      "source": [
        "news_articles = pd.read_csv(NEWS_ARTICLES,encoding='unicode_escape',index_col=0)\n",
        "#drop all the unnamed columns\n",
        "news_articles.drop(news_articles.columns[news_articles.columns.str.contains('unnamed',case = False)],axis = 1, inplace = True)\n",
        "news_articles.head()"
      ]
    },
    {
      "cell_type": "code",
      "execution_count": null,
      "metadata": {
        "id": "8FV_VxGTVjUU",
        "outputId": "141777d6-c1a0-419d-da27-46b94b202dbd"
      },
      "outputs": [
        {
          "data": {
            "text/plain": [
              "'Michigan billionaire education activist Betsy DeVos was confirmed today to serve as the secretary of education in President Trump\\'s administration, after Vice President Mike Pence cast a tie-breaking vote in the Senate. The Senate voted on DeVos\"?highly contentious nomination this afternoon, and the tally was split evenly, requiring Pence to use his authority as president of the upper chamber of Congress to break the impasse. This was the first time that a vice president has broken a tie to confirm a Cabinet nominee. Pence read the vote count 50-50 and then voted himself, rendering the tally 51-50. The day before the vote, Democrats staged a 24-hour marathon of speeches, with more than 30 lawmakers taking to the floor to urge at least one additional Republican to vote against DeVos and block her confirmation. \"It is hard to imagine a worse choice,\"?Sen. Elizabeth Warren, D-Mass., said before she read letters from constituents urging her to vote no. DeVos stirred up vehement opposition from teachers\"?unions and all 48 Senate Democrats. Many cited concerns about her support of school vouchers, which critics believe will weaken public schools, and her lack of experience, since she never attended or worked in the public education system. Others cited her lack of familiarity with a landmark law protecting the education needs of disabled children.     She was panned for a gaffe during her confirmation hearing, when she hedged on an answer about guns in schools by saying they might be needed in states like Wyoming to defend against \"potential grizzlies.\"?DeVos\\' nomination drew above-average negative reactions from the public, with voters flooding Senate phone lines and email accounts in recent weeks. Sen. Chris Van Hollen, D-Md., said his office received 14,000 calls about DeVos. In addition to the entire Democratic caucus, two moderate Republicans, Sens. Susan Collins of Maine and Lisa Murkowski of Alaska announced they would not support DeVos. During a speech announcing her opposition, Collins said DeVos\"?focus on charters and vouchers \"raises the question of whether or not she fully appreciates that the secretary of education\\'s primary focus must be on helping states and communities, parents, teachers, school board members and administrators strengthen our public schools.\"?Before the confirmation vote, the Senate Health, Education, Labor and Pensions Committee voted along party lines, 12-11, to refer DeVos\"?nomination to the full Senate. ABC News\"?Morgan Winsor contributed to this report.'"
            ]
          },
          "execution_count": 4,
          "metadata": {},
          "output_type": "execute_result"
        }
      ],
      "source": [
        "news_articles = news_articles[['title','text']].dropna()\n",
        "#articles is a list of all articles\n",
        "articles = news_articles['text'].tolist()\n",
        "articles[0] #an uncleaned article"
      ]
    },
    {
      "cell_type": "code",
      "execution_count": null,
      "metadata": {
        "id": "xbr-MHp6VjUV"
      },
      "outputs": [],
      "source": [
        "def clean_text(document):\n",
        "    document = re.sub('[^\\w_\\s-]', ' ',document)       #remove punctuation marks and other symbols\n",
        "    tokens = nltk.word_tokenize(document)              #Tokenize sentences\n",
        "    cleaned_article = ' '.join([stemmer.stem(item) for item in tokens])    #Stemming each token\n",
        "    return cleaned_article"
      ]
    },
    {
      "cell_type": "code",
      "execution_count": null,
      "metadata": {
        "id": "aWOnGEVhVjUW",
        "outputId": "d7cab95b-e202-4628-c660-0f83aa7fad54"
      },
      "outputs": [
        {
          "data": {
            "text/plain": [
              "'michigan billionair educ activist betsi devo was confirm today to serv as the secretari of educ in presid trump s administr after vice presid mike penc cast a tie-break vote in the senat the senat vote on devo high contenti nomin this afternoon and the talli was split even requir penc to use his author as presid of the upper chamber of congress to break the impass this was the first time that a vice presid has broken a tie to confirm a cabinet nomine penc read the vote count 50-50 and then vote himself render the talli 51-50 the day befor the vote democrat stage a 24-hour marathon of speech with more than 30 lawmak take to the floor to urg at least one addit republican to vote against devo and block her confirm it is hard to imagin a wors choic sen elizabeth warren d-mass said befor she read letter from constitu urg her to vote no devo stir up vehement opposit from teacher union and all 48 senat democrat mani cite concern about her support of school voucher which critic believ will weaken public school and her lack of experi sinc she never attend or work in the public educ system other cite her lack of familiar with a landmark law protect the educ need of disabl children she was pan for a gaff dure her confirm hear when she hedg on an answer about gun in school by say they might be need in state like wyom to defend against potenti grizzli devo nomin drew above-averag negat reaction from the public with voter flood senat phone line and email account in recent week sen chris van hollen d-md said his offic receiv 14 000 call about devo in addit to the entir democrat caucus two moder republican sen susan collin of main and lisa murkowski of alaska announc they would not support devo dure a speech announc her opposit collin said devo focus on charter and voucher rais the question of whether or not she fulli appreci that the secretari of educ s primari focus must be on help state and communiti parent teacher school board member and administr strengthen our public school befor the confirm vote the senat health educ labor and pension committe vote along parti line 12-11 to refer devo nomin to the full senat abc news morgan winsor contribut to this report'"
            ]
          },
          "execution_count": 6,
          "metadata": {},
          "output_type": "execute_result"
        }
      ],
      "source": [
        "cleaned_articles = list(map(clean_text, articles))\n",
        "cleaned_articles[0]  #a cleaned, tokenized and stemmed article"
      ]
    },
    {
      "cell_type": "markdown",
      "metadata": {
        "id": "ZQOJppLQVjUX"
      },
      "source": [
        "#### Get user read articles content"
      ]
    },
    {
      "cell_type": "code",
      "execution_count": null,
      "metadata": {
        "id": "6RPaoRSDVjUX",
        "outputId": "622e2dcd-fea7-4208-9636-9a1bbf106427"
      },
      "outputs": [
        {
          "data": {
            "text/plain": [
              "'first ladi melania trump has said littl about what she intend to do with her promin posit but in new court document her lawyer say that the multi-year term dure which she is one of the most photograph women in the world could mean million of dollar for her person brand while the new document don t specif mention her term as first ladi the unusu statement about her expect profit drew swift condemn from ethic watchdog as inappropri profit from her high-profil posit which is typic center on public servic the statement came monday in a libel lawsuit the first ladi re-fil in a state trial court in manhattan trump has been su the corpor that publish the daili mail s websit over a now-retract report that claim she onc work as an escort in the file monday trump s lawyer argu that the report was not onli fals and libel but also damag her abil to profit off her high profil and affect her busi opportun trump had the uniqu once-in-a-lifetim opportun as an extrem famous and well-known person as well as a former profession model brand spokesperson and success businesswoman to launch a broad-bas commerci brand in multipl product categori each of which could have garner multi-million dollar busi relationship for a multi-year term dure which plaintiff is one of the most photograph women in the world the lawsuit said the product could have includ apparel accessori jewelri cosmet hair care and fragranc among other the suit say the first ladi is seek compensatori and punit damag of at least 150 million richard painter who advis former presid georg w bush on ethic said the languag in the lawsuit show melania trump is engag in an unpreced clear breach of rule about use her govern posit for privat gain this is a veri serious situat where she say she intend to make a lot of money that ought to be repudi by the white hous or investig by congress painter is part of a group of attorney su the presid for an alleg violat of a constitut claus that prohibit presid from receiv foreign gift or payment in respons to question from the associ press charl harder melania trump s attorney said the first ladi has no intent of use her posit for profit and will not do so it is not a possibl ani statement to the contrari are be misinterpret harder did not respond to a follow-up question about what the lawsuit mean by once-in-a-lifetim opportun to painter and other there is no ambigu she s not talk about the futur painter said she s talk about earn money now scott amey general counsel of the washington watchdog project on govern oversight said it is anoth exampl of the first famili blur the line between public servic and privat busi interest trump previous file the lawsuit against mail media inc in maryland but a judg earlier this month rule the case was file in the wrong court the lawsuit is now file in new york where the corpor has offic trump also had su blogger webster tarpley for report the unsubstanti rumor trump file the lawsuit in maryland after both tarpley and the daili mail issu retract on tuesday melania trump s attorney said they d settl the maryland case against tarpley mr tarpley has issu the attach retract and apolog to mrs trump and her famili and agre to pay her a substanti sum as a settlement harder s offic said in a statement melania trump s previous work in market has drawn scrutini befor on inaugur day the offici white hous biographi for melania trump origin includ an explicit refer to her jewelri collect which it note was sold on the home-shop channel qvc by the next day that bio had been edit and simplifi to say that she had launch her own jewelri collect a spokeswoman for the first ladi said the websit was updat out of an abund of caution and that the jewelri line is no longer avail in ani case presid donald trump continu to financi benefit from his global busi empir break from past practic previous presid and their famili have divest from busi interest and place their hold in a blind trust although there is no legal requir to do so trump hand daili manag of the real estat properti manag and licens to his adult son and a longtim trump organ employe the flu season has been particular rough in new york citi this year with four pediatr death from the virus report in the citi all in januari accord to new york state health depart the flu has been spread across the countri with the u s center for diseas control and prevent see epidem level of flu activ late last month there have been 15 flu-rel pediatr death in the nation dure this current flu season the cdc report last week new york new jersey and pennsylvania all report high level of flu-lik activ accord to a cdc flu report last week dr william schaffner an infecti diseas expert at vanderbilt univers medic center said while the death are tragic the new york case are not unusu for the flu season the new york state depart of health did not disclos the age of the children or whether they had been vaccin or had an under condit that would have put them at addit risk for complic everi year in our pediatr emerg room come children who are otherwis clear healthi and they are serious ill with the flu schaffner said of vanderbilt the lesson is that flu can strike even healthi children dure the previous flu season a total of 89 pediatr death relat to the flu virus were report in the u s accord to the cdc public health expert have been concern about vaccin rate sinc pediatrician may have had difficulti get some children to get vaccin against the flu if they have an avers to needl schaffner note while in the past doctor could vaccin needle-avers children with a flu mist vaccin they were advis not to use the flu nasal spray this year sinc it was found less effect than a vaccin inject it s clear that the substanti major of children who die from influenza everi year have not been vaccin schaffner said clarifi that he was speak general and not about the recent death in new york flu can caus symptom of headach fever joint pain and cough the season flu general spread across the u s from novemb till march with the peak number of case often occur in februari the number of peopl affect everi year can vari wide but general the cdc report that million of peopl are sicken hundr of thousand are hospit and thousand or ten of thousand of peopl die from flu everi year children under the age of 1 are at increas likelihood of develop complic if they contract the flu'"
            ]
          },
          "execution_count": 7,
          "metadata": {},
          "output_type": "execute_result"
        }
      ],
      "source": [
        "user_articles = ' '.join(cleaned_articles[i] for i in ARTICLES_READ)\n",
        "user_articles"
      ]
    },
    {
      "cell_type": "markdown",
      "metadata": {
        "id": "AfRBQDztVjUX"
      },
      "source": [
        "### Generate TF-IDF for read and unread articles"
      ]
    },
    {
      "cell_type": "code",
      "execution_count": null,
      "metadata": {
        "id": "YVIYodGIVjUY",
        "outputId": "354a765c-8407-4a1c-9c5f-f13ee329d6e8"
      },
      "outputs": [
        {
          "data": {
            "text/plain": [
              "<3732x18771 sparse matrix of type '<class 'numpy.float64'>'\n",
              "\twith 670119 stored elements in Compressed Sparse Row format>"
            ]
          },
          "execution_count": 8,
          "metadata": {},
          "output_type": "execute_result"
        }
      ],
      "source": [
        "#Generate tfidf matrix model for entire corpus\n",
        "tfidf_matrix = TfidfVectorizer(stop_words='english', min_df=2) \n",
        "# min_df : When building the vocabulary ignore terms that have a document frequency strictly lower than the given threshold\n",
        "article_tfidf_matrix = tfidf_matrix.fit_transform(cleaned_articles)\n",
        "article_tfidf_matrix #tfidf vector of an article"
      ]
    },
    {
      "cell_type": "code",
      "execution_count": null,
      "metadata": {
        "id": "ls4jdBIeVjUY",
        "outputId": "9be595b2-0315-4cfb-9b40-32e3db9b56cf"
      },
      "outputs": [
        {
          "data": {
            "text/plain": [
              "<1x18771 sparse matrix of type '<class 'numpy.float64'>'\n",
              "\twith 355 stored elements in Compressed Sparse Row format>"
            ]
          },
          "execution_count": 9,
          "metadata": {},
          "output_type": "execute_result"
        }
      ],
      "source": [
        "#Generate tfidf matrix model for read articles\n",
        "user_article_tfidf_vector = tfidf_matrix.transform([user_articles])\n",
        "user_article_tfidf_vector"
      ]
    },
    {
      "cell_type": "code",
      "execution_count": null,
      "metadata": {
        "id": "H4BpdAIzVjUY",
        "outputId": "0d7545a2-c40f-4c04-f964-82f395713c3d"
      },
      "outputs": [
        {
          "data": {
            "text/plain": [
              "array([[0., 0., 0., ..., 0., 0., 0.]])"
            ]
          },
          "execution_count": 10,
          "metadata": {},
          "output_type": "execute_result"
        }
      ],
      "source": [
        "user_article_tfidf_vector.toarray()"
      ]
    },
    {
      "cell_type": "markdown",
      "metadata": {
        "id": "ZV3010pUVjUZ"
      },
      "source": [
        "### Cosine similarity between user read articles and unread articles"
      ]
    },
    {
      "cell_type": "code",
      "execution_count": null,
      "metadata": {
        "id": "s67vvRu2VjUZ"
      },
      "outputs": [],
      "source": [
        "articles_similarity_score=cosine_similarity(article_tfidf_matrix, user_article_tfidf_vector)"
      ]
    },
    {
      "cell_type": "code",
      "execution_count": null,
      "metadata": {
        "id": "o-Oux_0fVjUZ"
      },
      "outputs": [],
      "source": [
        "recommended_articles_id = articles_similarity_score.flatten().argsort()[::-1]"
      ]
    },
    {
      "cell_type": "code",
      "execution_count": null,
      "metadata": {
        "id": "RbpAnc0-VjUZ",
        "outputId": "21fbb22b-25e1-4b3f-c02b-6b9ef691b944"
      },
      "outputs": [
        {
          "data": {
            "text/plain": [
              "array([  10, 1093,    1, ..., 1895, 2879,  276], dtype=int64)"
            ]
          },
          "execution_count": 13,
          "metadata": {},
          "output_type": "execute_result"
        }
      ],
      "source": [
        "recommended_articles_id"
      ]
    },
    {
      "cell_type": "code",
      "execution_count": null,
      "metadata": {
        "id": "QM6noAcOVjUa"
      },
      "outputs": [],
      "source": [
        "#Remove read articles from recommendations\n",
        "final_recommended_articles_id = [article_id for article_id in recommended_articles_id \n",
        "                                 if article_id not in ARTICLES_READ ][:NUM_RECOMMENDED_ARTICLES]"
      ]
    },
    {
      "cell_type": "code",
      "execution_count": null,
      "metadata": {
        "id": "hu6E0DvVVjUa",
        "outputId": "185a8f7e-9555-473b-fb47-f238c1ba1a08"
      },
      "outputs": [
        {
          "data": {
            "text/plain": [
              "[1093, 55, 233, 372, 3098]"
            ]
          },
          "execution_count": 15,
          "metadata": {},
          "output_type": "execute_result"
        }
      ],
      "source": [
        "final_recommended_articles_id"
      ]
    },
    {
      "cell_type": "markdown",
      "metadata": {
        "id": "MDiVfe6NVjUa"
      },
      "source": [
        "### Article Recommendation"
      ]
    },
    {
      "cell_type": "code",
      "execution_count": null,
      "metadata": {
        "id": "qdFQdEHDVjUa",
        "outputId": "a53796ff-c657-4943-f5ce-18e536473c79"
      },
      "outputs": [
        {
          "name": "stdout",
          "output_type": "stream",
          "text": [
            "Articles Read\n",
            "article_id\n",
            "1     Betsy DeVos Confirmed as Education Secretary, ...\n",
            "10    Multi-State Manhunt in Southeast Intensifies f...\n",
            "Name: title, dtype: object\n",
            "\n",
            "\n",
            "Recommendations \n",
            "article_id\n",
            "1093             Adele sweeps the boards at Grammy Awards\n",
            "55      How child predator was caught by tiny clue in ...\n",
            "233     What goes on in a far-right Facebook filter bu...\n",
            "372     Beijing, Manila agree on $3.7b in shared projects\n",
            "3098    Iconic New York Columnist Jimmy Breslin Dead A...\n",
            "Name: title, dtype: object\n"
          ]
        }
      ],
      "source": [
        "#Recommended Articles and their title\n",
        "print ('Articles Read')\n",
        "print (news_articles.loc[ARTICLES_READ]['title'])\n",
        "print ('\\n')\n",
        "print ('Recommendations ')\n",
        "print (news_articles.loc[final_recommended_articles_id]['title'])"
      ]
    },
    {
      "cell_type": "code",
      "execution_count": null,
      "metadata": {
        "id": "PDm0ilNmVjUb"
      },
      "outputs": [],
      "source": []
    },
    {
      "cell_type": "code",
      "execution_count": null,
      "metadata": {
        "id": "GF-2d6RSVjUb"
      },
      "outputs": [],
      "source": []
    },
    {
      "cell_type": "code",
      "execution_count": null,
      "metadata": {
        "id": "-ZSZ03tYVjUb"
      },
      "outputs": [],
      "source": []
    },
    {
      "cell_type": "code",
      "execution_count": null,
      "metadata": {
        "id": "ghj_fxCrVjUb"
      },
      "outputs": [],
      "source": []
    }
  ],
  "metadata": {
    "kernelspec": {
      "display_name": "Python 3",
      "language": "python",
      "name": "python3"
    },
    "language_info": {
      "codemirror_mode": {
        "name": "ipython",
        "version": 3
      },
      "file_extension": ".py",
      "mimetype": "text/x-python",
      "name": "python",
      "nbconvert_exporter": "python",
      "pygments_lexer": "ipython3",
      "version": "3.7.1"
    },
    "colab": {
      "provenance": []
    }
  },
  "nbformat": 4,
  "nbformat_minor": 0
}