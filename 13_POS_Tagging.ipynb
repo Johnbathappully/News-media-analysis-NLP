{
 "cells": [
  {
   "cell_type": "code",
   "execution_count": 28,
   "metadata": {
    "colab": {},
    "colab_type": "code",
    "id": "pRvOz1rGVl_j"
   },
   "outputs": [],
   "source": [
    "import spacy\n",
    "nlp = spacy.load('en_core_web_sm', disable=['ner'])"
   ]
  },
  {
   "cell_type": "code",
   "execution_count": 4,
   "metadata": {
    "colab": {},
    "colab_type": "code",
    "id": "i1fnL2r-ZSkd"
   },
   "outputs": [],
   "source": [
    "import csv\n",
    "import numpy as np\n",
    "import pandas as pd\n",
    "\n",
    "import warnings\n",
    "warnings.filterwarnings('ignore')"
   ]
  },
  {
   "cell_type": "code",
   "execution_count": 19,
   "metadata": {
    "colab": {},
    "colab_type": "code",
    "id": "pGzBYyeHZfFN"
   },
   "outputs": [],
   "source": [
    "data = pd.read_csv(\"drive/My Drive/BBC News.csv\")"
   ]
  },
  {
   "cell_type": "code",
   "execution_count": 20,
   "metadata": {
    "colab": {},
    "colab_type": "code",
    "id": "DVaSLfn1ZhQb"
   },
   "outputs": [],
   "source": [
    "article = data[\"Text\"][0]"
   ]
  },
  {
   "cell_type": "code",
   "execution_count": 21,
   "metadata": {
    "colab": {
     "base_uri": "https://localhost:8080/",
     "height": 137
    },
    "colab_type": "code",
    "id": "S95dPYwvZ2SF",
    "outputId": "0e07cf82-cb44-40cf-8972-56c889857e71"
   },
   "outputs": [
    {
     "data": {
      "application/vnd.google.colaboratory.intrinsic": {
       "type": "string"
      },
      "text/plain": [
       "'worldcom ex-boss launches defence lawyers defending former worldcom chief bernie ebbers against a battery of fraud charges have called a company whistleblower as their first witness.  cynthia cooper  worldcom s ex-head of internal accounting  alerted directors to irregular accounting practices at the us telecoms giant in 2002. her warnings led to the collapse of the firm following the discovery of an $11bn (£5.7bn) accounting fraud. mr ebbers has pleaded not guilty to charges of fraud and conspiracy.  prosecution lawyers have argued that mr ebbers orchestrated a series of accounting tricks at worldcom  ordering employees to hide expenses and inflate revenues to meet wall street earnings estimates. but ms cooper  who now runs her own consulting business  told a jury in new york on wednesday that external auditors arthur andersen had approved worldcom s accounting in early 2001 and 2002. she said andersen had given a  green light  to the procedures and practices used by worldcom. mr ebber s lawyers have said he was unaware of the fraud  arguing that auditors did not alert him to any problems.  ms cooper also said that during shareholder meetings mr ebbers often passed over technical questions to the company s finance chief  giving only  brief  answers himself. the prosecution s star witness  former worldcom financial chief scott sullivan  has said that mr ebbers ordered accounting adjustments at the firm  telling him to  hit our books . however  ms cooper said mr sullivan had not mentioned  anything uncomfortable  about worldcom s accounting during a 2001 audit committee meeting. mr ebbers could face a jail sentence of 85 years if convicted of all the charges he is facing. worldcom emerged from bankruptcy protection in 2004  and is now known as mci. last week  mci agreed to a buyout by verizon communications in a deal valued at $6.75bn.'"
      ]
     },
     "execution_count": 21,
     "metadata": {
      "tags": []
     },
     "output_type": "execute_result"
    }
   ],
   "source": [
    "article"
   ]
  },
  {
   "cell_type": "code",
   "execution_count": 22,
   "metadata": {
    "colab": {},
    "colab_type": "code",
    "id": "TmaWidM4Z4iN"
   },
   "outputs": [],
   "source": [
    "tokenized_article = nlp(article)"
   ]
  },
  {
   "cell_type": "code",
   "execution_count": 23,
   "metadata": {
    "colab": {
     "base_uri": "https://localhost:8080/",
     "height": 54
    },
    "colab_type": "code",
    "id": "XiVEle06aBS1",
    "outputId": "0bff69b8-7568-4d89-ec4e-cd721242d107"
   },
   "outputs": [
    {
     "data": {
      "text/plain": [
       "worldcom ex-boss launches defence lawyers defending former worldcom chief bernie ebbers against a battery of fraud charges have called a company whistleblower as their first witness.  cynthia cooper  worldcom s ex-head of internal accounting  alerted directors to irregular accounting practices at the us telecoms giant in 2002. her warnings led to the collapse of the firm following the discovery of an $11bn (£5.7bn) accounting fraud. mr ebbers has pleaded not guilty to charges of fraud and conspiracy.  prosecution lawyers have argued that mr ebbers orchestrated a series of accounting tricks at worldcom  ordering employees to hide expenses and inflate revenues to meet wall street earnings estimates. but ms cooper  who now runs her own consulting business  told a jury in new york on wednesday that external auditors arthur andersen had approved worldcom s accounting in early 2001 and 2002. she said andersen had given a  green light  to the procedures and practices used by worldcom. mr ebber s lawyers have said he was unaware of the fraud  arguing that auditors did not alert him to any problems.  ms cooper also said that during shareholder meetings mr ebbers often passed over technical questions to the company s finance chief  giving only  brief  answers himself. the prosecution s star witness  former worldcom financial chief scott sullivan  has said that mr ebbers ordered accounting adjustments at the firm  telling him to  hit our books . however  ms cooper said mr sullivan had not mentioned  anything uncomfortable  about worldcom s accounting during a 2001 audit committee meeting. mr ebbers could face a jail sentence of 85 years if convicted of all the charges he is facing. worldcom emerged from bankruptcy protection in 2004  and is now known as mci. last week  mci agreed to a buyout by verizon communications in a deal valued at $6.75bn."
      ]
     },
     "execution_count": 23,
     "metadata": {
      "tags": []
     },
     "output_type": "execute_result"
    }
   ],
   "source": [
    "tokenized_article"
   ]
  },
  {
   "cell_type": "code",
   "execution_count": 33,
   "metadata": {
    "colab": {},
    "colab_type": "code",
    "id": "gUM4g38naDFe"
   },
   "outputs": [],
   "source": [
    "noun_tags = [\"CD\",\"NN\",\"NNS\",\"NNP\",\"NNPS\"]\n",
    "pronoun_tags = [\"POS\",\"PRP\",\"PRP$\",\"WP\",\"WP$\"]\n",
    "verb_tags = [\"MD\",\"VB\",\"VBG\",\"VBD\",\"VBN\",\"VBP\",\"VBZ\"]\n",
    "adjective_tags = [\"JJ\",\"JJR\",\"JJS\"]\n",
    "adverb_tags = [\"RB\",\"RBR\",\"RBS\",\"WRB\"]\n",
    "preposition_tags = [\"IN\",\"TO\"]\n",
    "conjunction_tags = [\"CC\"]\n",
    "interjection_tags = [\"UH\"]"
   ]
  },
  {
   "cell_type": "code",
   "execution_count": 62,
   "metadata": {
    "colab": {},
    "colab_type": "code",
    "id": "3cmdJ9e5hE0l"
   },
   "outputs": [],
   "source": [
    "nouns = []\n",
    "pronouns = []\n",
    "verbs = []\n",
    "adjectives = []\n",
    "adverbs = []\n",
    "prepositions = []\n",
    "conjunctions = []\n",
    "interjections = []"
   ]
  },
  {
   "cell_type": "code",
   "execution_count": 63,
   "metadata": {
    "colab": {},
    "colab_type": "code",
    "id": "FgnPTLMCdfWM"
   },
   "outputs": [],
   "source": [
    "for token in tokenized_article:\n",
    "  if (token.tag_ in noun_tags):\n",
    "    nouns.append(token.text)\n",
    "  elif (token.tag_ in verb_tags):\n",
    "    verbs.append(token.text)\n",
    "  elif (token.tag_ in adjective_tags):\n",
    "    adjectives.append(token.text)\n",
    "  elif (token.tag_ in pronoun_tags):\n",
    "    pronouns.append(token.text)\n",
    "  elif (token.tag_ in adverb_tags):\n",
    "    adverbs.append(token.text)\n",
    "  elif (token.tag_ in preposition_tags):\n",
    "    prepositions.append(token.text)\n",
    "  elif (token.tag_ in conjunction_tags):\n",
    "    conjunctions.append(token.text)\n",
    "  elif (token.tag_ in interjection_tags):\n",
    "    interjections.append(token.text)"
   ]
  },
  {
   "cell_type": "code",
   "execution_count": 83,
   "metadata": {
    "colab": {},
    "colab_type": "code",
    "id": "00B9n8JFd6Ht"
   },
   "outputs": [],
   "source": [
    "POS_Tag_Summary = {\n",
    "    \"Nouns\":[[nouns],len(nouns)],\n",
    "    \"Pronouns\":[[pronouns],len(pronouns)],\n",
    "    \"Verbs\":[[verbs],len(verbs)],\n",
    "    \"Adverbs\":[[adverbs],len(verbs)],\n",
    "    \"Adjectives\":[[adjectives],len(adjectives)],\n",
    "    \"Prepositions\":[[prepositions],len(prepositions)],\n",
    "    \"Conjunctions\":[[conjunctions],len(conjunctions)],\n",
    "    \"Interjections\":[[interjections],len(interjections)]\n",
    "}\n",
    "POS_Tag_Summary = pd.DataFrame.from_dict(POS_Tag_Summary, orient='index')"
   ]
  },
  {
   "cell_type": "code",
   "execution_count": 84,
   "metadata": {
    "colab": {
     "base_uri": "https://localhost:8080/",
     "height": 297
    },
    "colab_type": "code",
    "id": "heEYVbv4hgkI",
    "outputId": "066dcb6b-560b-4a74-8fee-f296103ac0e9"
   },
   "outputs": [
    {
     "data": {
      "text/html": [
       "<div>\n",
       "<style scoped>\n",
       "    .dataframe tbody tr th:only-of-type {\n",
       "        vertical-align: middle;\n",
       "    }\n",
       "\n",
       "    .dataframe tbody tr th {\n",
       "        vertical-align: top;\n",
       "    }\n",
       "\n",
       "    .dataframe thead th {\n",
       "        text-align: right;\n",
       "    }\n",
       "</style>\n",
       "<table border=\"1\" class=\"dataframe\">\n",
       "  <thead>\n",
       "    <tr style=\"text-align: right;\">\n",
       "      <th></th>\n",
       "      <th>0</th>\n",
       "      <th>1</th>\n",
       "    </tr>\n",
       "  </thead>\n",
       "  <tbody>\n",
       "    <tr>\n",
       "      <th>Nouns</th>\n",
       "      <td>[[worldcom, ex, -, boss, defence, lawyers, wor...</td>\n",
       "      <td>137</td>\n",
       "    </tr>\n",
       "    <tr>\n",
       "      <th>Pronouns</th>\n",
       "      <td>[[their, s, her, who, her, s, she, s, he, him,...</td>\n",
       "      <td>16</td>\n",
       "    </tr>\n",
       "    <tr>\n",
       "      <th>Verbs</th>\n",
       "      <td>[[launches, defending, have, called, alerted, ...</td>\n",
       "      <td>51</td>\n",
       "    </tr>\n",
       "    <tr>\n",
       "      <th>Adverbs</th>\n",
       "      <td>[[not, now, not, also, often, only, however, n...</td>\n",
       "      <td>51</td>\n",
       "    </tr>\n",
       "    <tr>\n",
       "      <th>Adjectives</th>\n",
       "      <td>[[former, first, internal, irregular, giant, g...</td>\n",
       "      <td>18</td>\n",
       "    </tr>\n",
       "    <tr>\n",
       "      <th>Prepositions</th>\n",
       "      <td>[[against, of, as, of, to, at, in, to, of, of,...</td>\n",
       "      <td>45</td>\n",
       "    </tr>\n",
       "    <tr>\n",
       "      <th>Conjunctions</th>\n",
       "      <td>[[and, and, but, and, and, and]]</td>\n",
       "      <td>6</td>\n",
       "    </tr>\n",
       "    <tr>\n",
       "      <th>Interjections</th>\n",
       "      <td>[[]]</td>\n",
       "      <td>0</td>\n",
       "    </tr>\n",
       "  </tbody>\n",
       "</table>\n",
       "</div>"
      ],
      "text/plain": [
       "                                                               0    1\n",
       "Nouns          [[worldcom, ex, -, boss, defence, lawyers, wor...  137\n",
       "Pronouns       [[their, s, her, who, her, s, she, s, he, him,...   16\n",
       "Verbs          [[launches, defending, have, called, alerted, ...   51\n",
       "Adverbs        [[not, now, not, also, often, only, however, n...   51\n",
       "Adjectives     [[former, first, internal, irregular, giant, g...   18\n",
       "Prepositions   [[against, of, as, of, to, at, in, to, of, of,...   45\n",
       "Conjunctions                    [[and, and, but, and, and, and]]    6\n",
       "Interjections                                               [[]]    0"
      ]
     },
     "execution_count": 84,
     "metadata": {
      "tags": []
     },
     "output_type": "execute_result"
    }
   ],
   "source": [
    "POS_Tag_Summary"
   ]
  },
  {
   "cell_type": "code",
   "execution_count": 86,
   "metadata": {
    "colab": {
     "base_uri": "https://localhost:8080/",
     "height": 411
    },
    "colab_type": "code",
    "id": "CqnYkxjwjyJq",
    "outputId": "890c9f79-7f4c-4707-c0b0-e48442efa1d8"
   },
   "outputs": [
    {
     "name": "stdout",
     "output_type": "stream",
     "text": [
      "Nouns : ['worldcom', 'ex', '-', 'boss', 'defence', 'lawyers', 'worldcom', 'chief', 'bernie', 'ebbers', 'battery', 'fraud', 'charges', 'company', 'whistleblower', 'witness', 'cynthia', 'cooper', 'worldcom', 'ex', '-', 'head', 'accounting', 'directors', 'accounting', 'practices', 'us', 'telecoms', '2002', 'warnings', 'collapse', 'firm', 'discovery', '11bn', '5.7bn', 'accounting', 'fraud', 'mr', 'ebbers', 'charges', 'fraud', 'conspiracy', 'prosecution', 'lawyers', 'mr', 'ebbers', 'series', 'accounting', 'tricks', 'worldcom', 'employees', 'expenses', 'revenues', 'wall', 'street', 'earnings', 'estimates', 'ms', 'cooper', 'consulting', 'business', 'jury', 'new', 'york', 'wednesday', 'auditors', 'arthur', 'andersen', 'worldcom', 'accounting', '2001', '2002', 'andersen', 'light', 'procedures', 'practices', 'worldcom', 'mr', 'ebber', 'lawyers', 'fraud', 'auditors', 'problems', 'ms', 'cooper', 'shareholder', 'meetings', 'mr', 'ebbers', 'questions', 'company', 'finance', 'chief', 'answers', 'prosecution', 's', 'star', 'witness', 'worldcom', 'chief', 'scott', 'sullivan', 'mr', 'ebbers', 'accounting', 'adjustments', 'firm', 'books', 'ms', 'cooper', 'mr', 'sullivan', 'anything', 'worldcom', 'accounting', '2001', 'audit', 'committee', 'meeting', 'mr', 'ebbers', 'jail', 'sentence', '85', 'years', 'charges', 'worldcom', 'bankruptcy', 'protection', '2004', 'mci', 'week', 'mci', 'buyout', 'communications', 'deal', '6.75bn']\n",
      "\n",
      "\n",
      "Pronouns :  ['their', 's', 'her', 'who', 'her', 's', 'she', 's', 'he', 'him', 's', 'himself', 'him', 'our', 's', 'he']\n",
      "\n",
      "\n",
      "Verbs : ['launches', 'defending', 'have', 'called', 'alerted', 'led', 'following', 'has', 'pleaded', 'have', 'argued', 'orchestrated', 'ordering', 'hide', 'inflate', 'meet', 'runs', 'told', 'had', 'approved', 'said', 'had', 'given', 'used', 'have', 'said', 'was', 'arguing', 'did', 'alert', 'said', 'passed', 'giving', 'has', 'said', 'ordered', 'telling', 'hit', 'said', 'had', 'mentioned', 'could', 'face', 'convicted', 'is', 'facing', 'emerged', 'is', 'known', 'agreed', 'valued']\n",
      "\n",
      "\n",
      "Adverbs :  ['not', 'now', 'not', 'also', 'often', 'only', 'however', 'not', 'now']\n",
      "\n",
      "\n",
      "Adjectives : ['former', 'first', 'internal', 'irregular', 'giant', 'guilty', 'own', 'external', 'early', 'green', 'unaware', 'technical', 'brief', 'former', 'financial', 'uncomfortable', 'last', 'verizon']\n",
      "\n",
      "\n",
      "Prepositions :  ['against', 'of', 'as', 'of', 'to', 'at', 'in', 'to', 'of', 'of', 'to', 'of', 'that', 'of', 'at', 'to', 'to', 'in', 'on', 'that', 'in', 'to', 'by', 'of', 'that', 'to', 'that', 'during', 'over', 'to', 'that', 'at', 'to', 'about', 'during', 'of', 'if', 'of', 'from', 'in', 'as', 'to', 'by', 'in', 'at']\n",
      "\n",
      "\n",
      "Conjunctions : ['and', 'and', 'but', 'and', 'and', 'and']\n",
      "\n",
      "\n",
      "Interjections :  []\n"
     ]
    }
   ],
   "source": [
    "print (\"Nouns :\", nouns)\n",
    "print (\"\\n\\nPronouns : \", pronouns)\n",
    "print (\"\\n\\nVerbs :\", verbs)\n",
    "print (\"\\n\\nAdverbs : \", adverbs)\n",
    "print (\"\\n\\nAdjectives :\", adjectives)\n",
    "print (\"\\n\\nPrepositions : \", prepositions)\n",
    "print (\"\\n\\nConjunctions :\", conjunctions)\n",
    "print (\"\\n\\nInterjections : \", interjections)\n"
   ]
  },
  {
   "cell_type": "code",
   "execution_count": null,
   "metadata": {
    "colab": {},
    "colab_type": "code",
    "id": "KRJ2symerENK"
   },
   "outputs": [],
   "source": []
  }
 ],
 "metadata": {
  "colab": {
   "name": "POS Tagging.ipynb",
   "provenance": []
  },
  "kernelspec": {
   "display_name": "Python 3",
   "language": "python",
   "name": "python3"
  },
  "language_info": {
   "codemirror_mode": {
    "name": "ipython",
    "version": 3
   },
   "file_extension": ".py",
   "mimetype": "text/x-python",
   "name": "python",
   "nbconvert_exporter": "python",
   "pygments_lexer": "ipython3",
   "version": "3.7.4"
  }
 },
 "nbformat": 4,
 "nbformat_minor": 1
}
